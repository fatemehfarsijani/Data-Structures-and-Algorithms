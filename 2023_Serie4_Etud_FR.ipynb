{
  "cells": [
    {
      "cell_type": "markdown",
      "id": "3753f8ac-fd3a-4817-9c73-7772af832027",
      "metadata": {
        "id": "3753f8ac-fd3a-4817-9c73-7772af832027"
      },
      "source": [
        "# Série 4\n",
        "Ce document contient les différents exercices à réaliser. Veuillez compléter et rendre ces exercices pour la semaine prochaine.\n",
        "\n",
        "Pour chaque exercice:\n",
        "* implémentez ce qui est demandé\n",
        "* commentez votre code\n",
        "* expliquez **en français** ce que vous avez codé dans la cellule correspondante\n",
        "\n",
        "\n",
        "Dans vos explications à chacun des exercices, indiquez un pourcentage subjectif d'investissement de chaque membre du groupe. **Des interrogations aléatoires en classe pourront être réalisées pour vérifier votre contribution/compréhension.**\n",
        "\n",
        "Les tentatives infructueuses, les explications, commentaires et analyses des échecs **rapportent des points**. Ne rendez pas copie-blanche, même si votre fonction n'est pas correcte."
      ]
    },
    {
      "cell_type": "markdown",
      "source": [
        "## Exercise 1 - (<font color='#ffcccc'>Obligatoire pour ceux n'en ayant pas rendu une version qui fonctionne</font>)\n",
        "Puits de fleurs de la semaine dernière !\n",
        "\n",
        "Quelle est la complexité de votre algorithme ?"
      ],
      "metadata": {
        "id": "EPjVBMDWykAe"
      },
      "id": "EPjVBMDWykAe"
    },
    {
      "cell_type": "markdown",
      "source": [
        "<< A REMPLIR PAR L'ETUDIANT >>"
      ],
      "metadata": {
        "id": "sSE8NeE9BSSE"
      },
      "id": "sSE8NeE9BSSE"
    },
    {
      "cell_type": "code",
      "source": [
        "def min_well_coin(remaining_flowers, well_memory, n_coin_tossed):\n",
        "    # A COMPLETER\n",
        "\n",
        "    return min(coin_counts)"
      ],
      "metadata": {
        "id": "sCSFHogRy8_D"
      },
      "id": "sCSFHogRy8_D",
      "execution_count": null,
      "outputs": []
    },
    {
      "cell_type": "code",
      "source": [
        "# Les asserts sont flexibles - seul le résultat compte. Modifiez à votre convenance.\n",
        "assert min_well_coin(5, 0, 0) == 5\n",
        "assert min_well_coin(12, 0, 0) == 12\n",
        "assert min_well_coin(17, 0, 0) == 15\n",
        "assert min_well_coin(20, 0, 0) == 15"
      ],
      "metadata": {
        "id": "m7F8HIJ1zOlr"
      },
      "id": "m7F8HIJ1zOlr",
      "execution_count": null,
      "outputs": []
    },
    {
      "cell_type": "markdown",
      "source": [
        "Affichez les valeurs de `min_well_coin` pour un nombre initial de fleurs allant de 1 à 20. Que remarquez-vous ?"
      ],
      "metadata": {
        "id": "0EE5LcgMAwdh"
      },
      "id": "0EE5LcgMAwdh"
    },
    {
      "cell_type": "code",
      "source": [],
      "metadata": {
        "id": "nw9jHSzfBNhR"
      },
      "id": "nw9jHSzfBNhR",
      "execution_count": null,
      "outputs": []
    },
    {
      "cell_type": "markdown",
      "source": [
        "### Explications"
      ],
      "metadata": {
        "id": "8KNckSRSBAvS"
      },
      "id": "8KNckSRSBAvS"
    },
    {
      "cell_type": "markdown",
      "source": [
        "<< A REMPLIR PAR L'ETUDIANT >>"
      ],
      "metadata": {
        "id": "afW_KbWnBCn2"
      },
      "id": "afW_KbWnBCn2"
    },
    {
      "cell_type": "code",
      "source": [],
      "metadata": {
        "id": "0ssKg0WcBRfA"
      },
      "id": "0ssKg0WcBRfA",
      "execution_count": null,
      "outputs": []
    }
  ],
  "metadata": {
    "kernelspec": {
      "display_name": "Python 3 (ipykernel)",
      "language": "python",
      "name": "python3"
    },
    "language_info": {
      "codemirror_mode": {
        "name": "ipython",
        "version": 3
      },
      "file_extension": ".py",
      "mimetype": "text/x-python",
      "name": "python",
      "nbconvert_exporter": "python",
      "pygments_lexer": "ipython3",
      "version": "3.8.8"
    },
    "colab": {
      "provenance": []
    }
  },
  "nbformat": 4,
  "nbformat_minor": 5
}