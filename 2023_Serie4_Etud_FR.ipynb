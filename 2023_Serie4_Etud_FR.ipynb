{
 "cells": [
  {
   "cell_type": "markdown",
   "id": "3753f8ac-fd3a-4817-9c73-7772af832027",
   "metadata": {
    "id": "3753f8ac-fd3a-4817-9c73-7772af832027"
   },
   "source": [
    "# Série 4\n",
    "Ce document contient les différents exercices à réaliser. Veuillez compléter et rendre ces exercices pour la semaine prochaine.\n",
    "\n",
    "Pour chaque exercice:\n",
    "* implémentez ce qui est demandé\n",
    "* commentez votre code\n",
    "* expliquez **en français** ce que vous avez codé dans la cellule correspondante\n",
    "\n",
    "\n",
    "Dans vos explications à chacun des exercices, indiquez un pourcentage subjectif d'investissement de chaque membre du groupe. **Des interrogations aléatoires en classe pourront être réalisées pour vérifier votre contribution/compréhension.**\n",
    "\n",
    "Les tentatives infructueuses, les explications, commentaires et analyses des échecs **rapportent des points**. Ne rendez pas copie-blanche, même si votre fonction n'est pas correcte."
   ]
  },
  {
   "cell_type": "markdown",
   "id": "EPjVBMDWykAe",
   "metadata": {
    "id": "EPjVBMDWykAe"
   },
   "source": [
    "## Exercise 1 - (<font color='#ffcccc'>Obligatoire pour ceux n'en ayant pas rendu une version qui fonctionne</font>)\n",
    "Puits de fleurs de la semaine dernière !\n",
    "\n",
    "Quelle est la complexité de votre algorithme ?"
   ]
  },
  {
   "cell_type": "markdown",
   "id": "sSE8NeE9BSSE",
   "metadata": {
    "id": "sSE8NeE9BSSE"
   },
   "source": [
    "For the time complexity of the algorithem, the outer loop is running for O(L) times, and for each index i from 2 to L. There are L/i multiples, hence, the time complexity will be calculated as:\n",
    "\n",
    "O(L/2 + L/3 + L/4 + L/5 + ……….. + L/L)\n",
    "\n",
    "O(L(½ + ⅓ + ¼ + ⅕ + ……….+ 1/L)\n",
    "\n",
    "O(LlogL)\n",
    "\n",
    "This is because the ½ + ⅓ + ¼ + ⅕ + ….+ 1/L is a Harmonic Series and the solution to this series is logL. In addition, as we are using a 1-D dp array, the space comlexity of the algorithem is O(L)."
   ]
  },
  {
   "cell_type": "code",
   "execution_count": 87,
   "id": "sCSFHogRy8_D",
   "metadata": {
    "id": "sCSFHogRy8_D"
   },
   "outputs": [],
   "source": [
    "def min_well_coin(remaining_flowers, well_memory, n_coin_tossed):\n",
    "    # A COMPLETER\n",
    "      L = remaining_flowers             # assign the value of remaining_flowers to L\n",
    "      n_coin_tossed = [0] * (L + 2)     # initialize a list to store number of tossed coins\n",
    "\n",
    "      # initialize the list with initial values (0, 1, 2, ... L)\n",
    "      for i in range(L + 1):\n",
    "          n_coin_tossed[i] = i\n",
    "          # print(\"1_\", n_coin_tossed[i])\n",
    "\n",
    "      # perform dynamic programming to calculate minimum coin toss counts\n",
    "      for i in range(2, L + 1):\n",
    "          n_coin_tossed[i + 1] = min(n_coin_tossed[i] + 1, n_coin_tossed[i + 1])\n",
    "          well_memory = n_coin_tossed[i] + 4\n",
    "          # print(\"2_\", n_coin_tossed[i] + 1, n_coin_tossed[i + 1])\n",
    "\n",
    "          # update the well_memory value for multiples of i\n",
    "          for j in range(i * 2, L + 1, i):\n",
    "              well_memory += 2\n",
    "              # print(\"3_\", n_coin_tossed[j], well_memory)\n",
    "              n_coin_tossed[j] = min(n_coin_tossed[j], well_memory)\n",
    "\n",
    "      # return the minimum coin toss count for L remaining flowers\n",
    "      return n_coin_tossed[L]"
   ]
  },
  {
   "cell_type": "code",
   "execution_count": 88,
   "id": "m7F8HIJ1zOlr",
   "metadata": {
    "id": "m7F8HIJ1zOlr"
   },
   "outputs": [],
   "source": [
    "# Les asserts sont flexibles - seul le résultat compte. Modifiez à votre convenance.\n",
    "assert min_well_coin(5, 0, 0) == 5\n",
    "assert min_well_coin(12, 0, 0) == 12\n",
    "assert min_well_coin(17, 0, 0) == 15\n",
    "assert min_well_coin(20, 0, 0) == 15"
   ]
  },
  {
   "cell_type": "markdown",
   "id": "0EE5LcgMAwdh",
   "metadata": {
    "id": "0EE5LcgMAwdh"
   },
   "source": [
    "Affichez les valeurs de `min_well_coin` pour un nombre initial de fleurs allant de 1 à 20. Que remarquez-vous ?"
   ]
  },
  {
   "cell_type": "code",
   "execution_count": 89,
   "id": "nw9jHSzfBNhR",
   "metadata": {
    "colab": {
     "base_uri": "https://localhost:8080/"
    },
    "id": "nw9jHSzfBNhR",
    "outputId": "c6cf0d33-92cd-4458-ffc6-0ba6ede20ea6"
   },
   "outputs": [
    {
     "name": "stdout",
     "output_type": "stream",
     "text": [
      "1\n",
      "2\n",
      "3\n",
      "4\n",
      "5\n",
      "6\n",
      "7\n",
      "8\n",
      "9\n",
      "10\n",
      "11\n",
      "12\n",
      "13\n",
      "13\n",
      "13\n",
      "14\n",
      "15\n",
      "14\n",
      "15\n",
      "15\n"
     ]
    }
   ],
   "source": [
    "for i in range(1, 21):\n",
    "  remaining_flowers = i\n",
    "  print(min_well_coin(i, 0, 0))"
   ]
  },
  {
   "cell_type": "markdown",
   "id": "8KNckSRSBAvS",
   "metadata": {
    "id": "8KNckSRSBAvS"
   },
   "source": [
    "### Explications"
   ]
  },
  {
   "cell_type": "markdown",
   "id": "afW_KbWnBCn2",
   "metadata": {
    "id": "afW_KbWnBCn2"
   },
   "source": [
    "The results of the programe for 1 to 20 flowers in the well, shows that the minimun cost will be the same number of coins as the number of flowers in the well for 1 to 13, as the solution is to use single coins. In fact, in this algorithem, First, we try to consider the use of single coin scenrio only until we take all of the flowers. Then, we try to implement one time the use of 4 coin scenario to register the new value into the well memory and then use 2 coin scenario to take all the lilys. Hence, this way we systematically compute the number of coins (only once thanks to DP) and in the end compute the min.  \n",
    "\n",
    "In fact, as the number of `remaing_flowers` increase, the time it takes for program to run is increased. Hence, to solve tthis problem, we used dynamic programming. Because using a brute force recursion approach to solve the problem is not feasible when the value of  `L`  is too large as the program would likely take too much time to run, resulting in a TLE error.\n",
    "\n",
    "# Algorithm Description:\n",
    "\n",
    "**Step 1:** Initialize a 1-D dynamic programming array of size `L+2` and set `n_coin_tossed[i] = i`. This represents the number of coins needed to reach the `i`-th state, where initially, we need `i` coins to reach `i`.\n",
    "\n",
    "**Step 2:** Now, let's go through each of the following three steps:\n",
    "\n",
    "**Step 3 - Transition to i+1 State:**\n",
    "- When we are at the `i`-th state, we can transition to the `i+1`-th state using 1 coin. We update this transition as `n_coin_tossed[i + 1] = min(n_coin_tossed[i] + 1, n_coin_tossed[i + 1])`. This ensures that we take the minimum number of coins to reach the `i+1`-th state, considering both the current value and the one obtained by moving from `i`.\n",
    "\n",
    "**Step 4 - Record Current State:**\n",
    "- We use 4 coins to record the current state. This is done by introducing a variable `well_memory` and updating it as `well_memory = n_coin_tossed[i] + 4`.\n",
    "\n",
    "**Step 5 - Update Multiples of i-th State:**\n",
    "- We aim to update all the multiples of the `i`-th state using 2 coins for each update. As we add the last noted lilies, we must only consider the multiples of the current state. This is achieved using a `for` loop that traverses from `i+i` to `L`."
   ]
  },
  {
   "cell_type": "code",
   "execution_count": null,
   "id": "0ssKg0WcBRfA",
   "metadata": {
    "id": "0ssKg0WcBRfA"
   },
   "outputs": [],
   "source": []
  }
 ],
 "metadata": {
  "colab": {
   "provenance": []
  },
  "kernelspec": {
   "display_name": "Python 3 (ipykernel)",
   "language": "python",
   "name": "python3"
  },
  "language_info": {
   "codemirror_mode": {
    "name": "ipython",
    "version": 3
   },
   "file_extension": ".py",
   "mimetype": "text/x-python",
   "name": "python",
   "nbconvert_exporter": "python",
   "pygments_lexer": "ipython3",
   "version": "3.11.5"
  }
 },
 "nbformat": 4,
 "nbformat_minor": 5
}
