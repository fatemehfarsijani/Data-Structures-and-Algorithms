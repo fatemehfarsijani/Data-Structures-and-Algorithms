{
  "cells": [
    {
      "cell_type": "markdown",
      "id": "3753f8ac-fd3a-4817-9c73-7772af832027",
      "metadata": {
        "id": "3753f8ac-fd3a-4817-9c73-7772af832027"
      },
      "source": [
        "# Série 5\n",
        "Ce document contient les différents exercices à réaliser. Veuillez compléter et rendre ces exercices pour la semaine prochaine.\n",
        "\n",
        "Pour chaque exercice:\n",
        "* implémentez ce qui est demandé\n",
        "* commentez votre code\n",
        "* expliquez **en français** ce que vous avez codé dans la cellule correspondante\n",
        "\n",
        "Dans vos explications à chacun des exercices, indiquez un pourcentage subjectif d'investissement de chaque membre du groupe. **Des interrogations aléatoires en classe pourront être réalisées pour vérifier votre contribution/compréhension.**\n",
        "\n",
        "Les tentatives infructueuses, les explications, commentaires et analyses des échecs **rapportent des points**. Ne rendez pas copie-blanche, même si votre fonction n'est pas correcte."
      ]
    },
    {
      "cell_type": "markdown",
      "id": "1fb0b066-c859-40a3-a8d6-7bcc656f8764",
      "metadata": {
        "id": "1fb0b066-c859-40a3-a8d6-7bcc656f8764"
      },
      "source": [
        "## Exercice 1\n",
        "Vous allez devoir implémenter un algorithme pour trouver la meilleure combinaison dans la multiplication de n matrices  M<sub>1</sub>, ..., M<sub>n</sub> dont le vecteur D=(d<sub>0</sub>,d<sub>1</sub>,...d<sub>n</sub>) fournit les dimenstion de la matrice M<sub>i</sub> = d<sub>i-1</sub> × d<sub>i</sub>\n",
        "\n",
        "Vous devez:\n",
        "* générer un nombre entier aléatoire *random* plus grand ou égal à 3 (le nombre de matrices)  \n",
        "* générer un vecteur de *random*+1 dimensions aléatoires comprises entre, 2 et 19: D<sub>*random*</sub>\n",
        "* générer random matrices à valeurs entières M<sub>i</sub> de dimension d<sub>i-1</sub> × d<sub>i</sub> pour i = 1, ..., *random*\n",
        "* programmer l'algorithme de recherche de la meilleures combinaison\n",
        "* trouver la meilleure combinaison et multiplier leurs matrices selon la meilleure combinaison\n",
        "* tester éventuellement avec des combinaisons aléatoires de leur suite de matrices (pour ce dernier exercice, il faut implémenter un compteur de multiplications scalaires dans la fonction de multiplication matricielle)"
      ]
    },
    {
      "cell_type": "code",
      "execution_count": null,
      "id": "f7d53256-24f6-4c2c-860f-2b0577daf6db",
      "metadata": {
        "id": "f7d53256-24f6-4c2c-860f-2b0577daf6db"
      },
      "outputs": [],
      "source": [
        "import sys\n",
        "class MatrixMult:\n",
        "    nmbre_matr = 1\n",
        "    dimensions = []\n",
        "    MAX_VALUE = sys.maxsize\n",
        "\n",
        "    def __init__(self, dimensions, nmbre_matr):\n",
        "        self.nmbre_matr = nmbre_matr\n",
        "        self.dimensions = dimensions\n",
        "        self.best_pivot = [[0 for i in range(nmbre_matr+1)] for j in range(nmbre_matr+1)]\n",
        "        self.pivots_in_postorder = []\n",
        "\n",
        "    def best_n_mult(self,high):\n",
        "        print(high)\n",
        "        best_value = [[0 for i in range(high+1)] for j in range(high+1)]\n",
        "        h=2\n",
        "        while h<=high:\n",
        "            l=h-2\n",
        "            while l>=0:\n",
        "                min_n_mult = self.MAX_VALUE+1\n",
        "                i=l+1\n",
        "                while i<=h-1:\n",
        "                    n_mult = self.dimensions[l]*self.dimensions[i]*self.dimensions[h] + best_value[l][i] + best_value[i][h]\n",
        "                    if min_n_mult > n_mult:\n",
        "                        min_n_mult = n_mult\n",
        "                        self.best_pivot[l][h] = i\n",
        "                    i+=1\n",
        "                best_value[l][h] = min_n_mult\n",
        "                print(l,h,best_value[l][h])\n",
        "                l-=1\n",
        "            h+=1\n",
        "        print(best_value)\n",
        "        return best_value[0][high]\n",
        "\n",
        "    def write_pivots_in_postorder(self,l,h):\n",
        "        if ( l+1 < h ):\n",
        "            b = self.best_pivot[l][h]\n",
        "            self.write_pivots_in_postorder(l, b)\n",
        "            self.write_pivots_in_postorder(b, h)\n",
        "            self.pivots_in_postorder.append(b)\n",
        "            print(b)\n",
        "\n",
        "# A COMPLETER"
      ]
    },
    {
      "cell_type": "code",
      "execution_count": null,
      "id": "c1fd10ee-e325-40e9-8e21-081905a50ec5",
      "metadata": {
        "id": "c1fd10ee-e325-40e9-8e21-081905a50ec5"
      },
      "outputs": [],
      "source": [
        "# Nous vous mettons à disposition une matrice pour que vous puissiez tester votre algorithme de multiplication matricielle.\n",
        "# Vous devez quand même implémenter la partie \"aléatoire\" demandée et la tester vous-même.\n",
        "dimensions = [3, 3, 3, 3, 2, 2]\n",
        "nmbre_matr = 5\n",
        "print(\"Dimensions vector:\")\n",
        "print(nmbre_matr, dimensions)\n",
        "print()\n",
        "\n",
        "print(\"\\\"Random\\\" matrices: \")\n",
        "# Vous pouvez convertir l'équivalent de cette matrice 3D en la structure de données que vous avez implémentée\n",
        "matrices = [[[10,6,19],[7,16,13],[8,12,18]],[[13,20,14],[6,8,5],[14,3,9]],[[15,18,1],[7,7,6],[6,20,17]],[[4,1],[14,14],[15,9]],[[6,10],[17,17]]]\n",
        "print(matrices)\n",
        "print()\n",
        "a = MatrixMult(dimensions, nmbre_matr)\n",
        "print(\"best_n_mult: \")\n",
        "a.best_n_mult(nmbre_matr)\n",
        "print()\n",
        "print(\"write_pivots_in_postorder: \")\n",
        "a.write_pivots_in_postorder( 0, nmbre_matr)\n",
        "print()\n",
        "\n",
        "# Fonction qui multiplie les matrices dans le bon ordre.\n",
        "# Vous n'êtes pas obligé de l'utiliser et vous pouvez utiliser une autre fonction que vous avez créée.\n",
        "# Si c'est le cas, apportez les modifications nécessaires ici pour que l'assertion fonctionne\n",
        "pivots = a.pivots_in_postorder\n",
        "final_matrix = do_operation(pivots, matrices)\n",
        "\n",
        "print(\"Final matrix:\")\n",
        "print(final_matrix)\n",
        "assert final_matrix == [[7782820,9373872],[6874034,8281554],[7700480,9274968]]"
      ]
    },
    {
      "cell_type": "markdown",
      "id": "2ca32f2e-e995-477c-8535-62f6e42dc093",
      "metadata": {
        "id": "2ca32f2e-e995-477c-8535-62f6e42dc093"
      },
      "source": [
        "### Explications"
      ]
    },
    {
      "cell_type": "markdown",
      "id": "f5a17952-cba5-4bc4-9a41-aa68a0b0d806",
      "metadata": {
        "id": "f5a17952-cba5-4bc4-9a41-aa68a0b0d806"
      },
      "source": [
        "<< A REMPLIR PAR L'ETUDIANT >>"
      ]
    },
    {
      "cell_type": "markdown",
      "source": [
        "## Exercice 2 - La revanche du puits magique"
      ],
      "metadata": {
        "id": "X8kNNBha4QW-"
      },
      "id": "X8kNNBha4QW-"
    },
    {
      "cell_type": "markdown",
      "source": [
        "*Cet exercise ne compte que pour 1 point sur 6.*\n",
        "\n",
        "Lors du cours de récurrence, vous aviez certainement effectué une recherche exhaustive en créant un arbre des possibilités et en prenant le minimum parmi les feuilles. Cet algorithme, tout à fait correct pour une première approche, avait cependant une complexité temporelle de $O(3^L)$. Nous allons utiliser la programmation dynamique pour améliorer cela.\n",
        "\n",
        "Prenons une liste $u$ de termes $u_{i}$ correspondant au plus petit nombre de pièces pour obtenir $i$ fleurs. Que valent $u_0$ et $u_1$ ?"
      ],
      "metadata": {
        "id": "yGjdSF4E4d6U"
      },
      "id": "yGjdSF4E4d6U"
    },
    {
      "cell_type": "markdown",
      "source": [
        "<< A REMPLIR PAR L'ETUDIANT >>"
      ],
      "metadata": {
        "id": "Rc6GJuHE6AzN"
      },
      "id": "Rc6GJuHE6AzN"
    },
    {
      "cell_type": "markdown",
      "source": [
        "Pour $i>1$, il existe deux façons possibles d'obtenir $i$ fleurs - soit nous collectons d'abord $i-1$ fleurs, puis utilisons une opération d'une pièce pour obtenir un autre fleurs, soit la dernière opération doit avoir été une opération de deux pièces. Cela signifie que nous avions demandé au puits de se souvenir de l'état de notre panier à $k$ fleurs (où $k$ est un diviseur de $i$) et ensuite appliqué $\\frac{i}{k}-1$ opérations de deux pièces.\n",
        "\n",
        "Avec une expression plus formelle, nous aurions une formule similaire à cela (formule $(1)$) :"
      ],
      "metadata": {
        "id": "akkkVK9p6BXw"
      },
      "id": "akkkVK9p6BXw"
    },
    {
      "cell_type": "markdown",
      "source": [
        "$$u_{i}=\\min \\left(□, \\min _{k \\mid i}\\left\\{u_{k}+4+2\\left(\\frac{i}{k}-1\\right)\\right\\}\\right).$$"
      ],
      "metadata": {
        "id": "qUpH5bxn7Nmm"
      },
      "id": "qUpH5bxn7Nmm"
    },
    {
      "cell_type": "markdown",
      "source": [
        "Que faudrait-il mettre à la place du \"□\" ?"
      ],
      "metadata": {
        "id": "DpDO2067DkqW"
      },
      "id": "DpDO2067DkqW"
    },
    {
      "cell_type": "markdown",
      "source": [
        "<< A REMPLIR PAR L'ETUDIANT >>"
      ],
      "metadata": {
        "id": "34nUc0pHEBYh"
      },
      "id": "34nUc0pHEBYh"
    },
    {
      "cell_type": "markdown",
      "source": [
        "Au lieu d'itérer sur les diviseurs de $i$ comme la formule nous le permettrait, nous allons procéder comme suit :\n",
        "\n",
        "Au début, nous pouvons dire que toutes les valeurs de la suite, les $u_i$ (sauf $u_0$ et $u_1$), sont égales à l'infini. Maintenant, parcourons toutes les valeurs de $i$ de $2$ à $N$ ($N$ étant un entier que vous choisirez à votre convenance...). Une des possibilités est d'utiliser une pièce et ainsi passer de $i-1$ fleurs à $i$ fleurs, donc nous pouvons dire que $u_i\\leftarrow \\min(u_i, u_{i-1}+1)$.\n",
        "\n",
        "À présent, lorsque nous avons déjà $i$ fleurs, nous pouvons également utiliser quatre pièces pour mémoriser l'état de notre panier, puis obtenir plus tard $j \\cdot i$ fleurs du puits. Nous devrions donc mettre à jour $u_i$ pour tous les multiples de $i$ avec la formule $(2)$:"
      ],
      "metadata": {
        "id": "WJmAu0hf8kiU"
      },
      "id": "WJmAu0hf8kiU"
    },
    {
      "cell_type": "markdown",
      "source": [
        "$$u_{j \\cdot i} = \\min(u_{j \\cdot i}, u_i + 4 + 2 \\cdot (j - 1)), i < j \\cdot i ≤ N$$"
      ],
      "metadata": {
        "id": "tpQtWF92ErxG"
      },
      "id": "tpQtWF92ErxG"
    },
    {
      "cell_type": "markdown",
      "source": [
        "Implémentez ce travail dans la fonction suivante :"
      ],
      "metadata": {
        "id": "-rAClpJFEx5D"
      },
      "id": "-rAClpJFEx5D"
    },
    {
      "cell_type": "code",
      "source": [
        "import math\n",
        "\n",
        "def min_well_coin(L):\n",
        "    U = [math.inf] * (L + 1)\n",
        "    U[0] = 0\n",
        "    U[1] = 1\n",
        "\n",
        "    # For each i...\n",
        "    for i in range(2, L + 1):\n",
        "        # u_i can be obtained from u_i-1\n",
        "        U[i] = None  # A COMPLETER\n",
        "        # We then update all divisors of i\n",
        "        for k in range(1, i):\n",
        "            division_condition = None  # A COMPLETER\n",
        "            if division_condition:\n",
        "                # Formula (2):\n",
        "                U[i] = min(None, None)  # A COMPLETER\n",
        "\n",
        "    # Return the correct term from the U sequence\n",
        "    return None  # A COMPLETER"
      ],
      "metadata": {
        "id": "UeKGIG_94RdC"
      },
      "id": "UeKGIG_94RdC",
      "execution_count": 1,
      "outputs": []
    },
    {
      "cell_type": "code",
      "source": [
        "assert min_well_coin(12) == 12\n",
        "assert min_well_coin(13) == 13\n",
        "assert min_well_coin(15) == 13\n",
        "assert min_well_coin(16) == 14\n",
        "assert min_well_coin(17) == 15\n",
        "assert min_well_coin(18) == 14\n",
        "assert min_well_coin(19) == 15\n",
        "assert min_well_coin(21) == 15\n",
        "assert min_well_coin(22) == 16\n",
        "assert min_well_coin(23) == 17\n",
        "assert min_well_coin(93) == 27\n",
        "assert min_well_coin(94) == 28\n",
        "assert min_well_coin(96) == 26\n",
        "assert min_well_coin(97) == 27"
      ],
      "metadata": {
        "id": "FXxForz_APsN"
      },
      "id": "FXxForz_APsN",
      "execution_count": 2,
      "outputs": []
    },
    {
      "cell_type": "markdown",
      "source": [
        "Que pouvait-on choisir pour $N$ en fin de compte ?"
      ],
      "metadata": {
        "id": "1HZp1MJnHxqy"
      },
      "id": "1HZp1MJnHxqy"
    },
    {
      "cell_type": "markdown",
      "source": [
        "<< A REMPLIR PAR L'ETUDIANT >>"
      ],
      "metadata": {
        "id": "D7d5dWC4H6GD"
      },
      "id": "D7d5dWC4H6GD"
    },
    {
      "cell_type": "markdown",
      "source": [
        "Affichez sur un graphe les valeurs de la fonction pour $L$ allant de $0$ à $1000$. Quel est l'aspect du graphe ?"
      ],
      "metadata": {
        "id": "qpkOqmB8E20g"
      },
      "id": "qpkOqmB8E20g"
    },
    {
      "cell_type": "code",
      "source": [
        "# A COMPLETER"
      ],
      "metadata": {
        "id": "OL5W4uOAFDaZ"
      },
      "id": "OL5W4uOAFDaZ",
      "execution_count": null,
      "outputs": []
    },
    {
      "cell_type": "markdown",
      "source": [
        "### Explications"
      ],
      "metadata": {
        "id": "qdCXdJCdFFuw"
      },
      "id": "qdCXdJCdFFuw"
    },
    {
      "cell_type": "markdown",
      "source": [
        "<< A REMPLIR PAR L'ETUDIANT >>"
      ],
      "metadata": {
        "id": "oNzBakvJFPFL"
      },
      "id": "oNzBakvJFPFL"
    },
    {
      "cell_type": "markdown",
      "source": [
        "Quelle est la complexité temporelle de cet algorithme ? Que pouvez-vous en dire au regard de la recherche exhaustive codée plus tôt en lab ?"
      ],
      "metadata": {
        "id": "6iBPzZVoFWbJ"
      },
      "id": "6iBPzZVoFWbJ"
    },
    {
      "cell_type": "markdown",
      "source": [
        "### Explications"
      ],
      "metadata": {
        "id": "Yy_cvNWoFQTU"
      },
      "id": "Yy_cvNWoFQTU"
    },
    {
      "cell_type": "markdown",
      "source": [
        "<< A REMPLIR PAR L'ETUDIANT >>"
      ],
      "metadata": {
        "id": "fcVl13CNFjIV"
      },
      "id": "fcVl13CNFjIV"
    }
  ],
  "metadata": {
    "interpreter": {
      "hash": "4d627b3ea71e790ed7d9c294cc76e400708b53c97c06f52348911b9296e7b669"
    },
    "kernelspec": {
      "display_name": "Python 3 (ipykernel)",
      "language": "python",
      "name": "python3"
    },
    "language_info": {
      "codemirror_mode": {
        "name": "ipython",
        "version": 3
      },
      "file_extension": ".py",
      "mimetype": "text/x-python",
      "name": "python",
      "nbconvert_exporter": "python",
      "pygments_lexer": "ipython3",
      "version": "3.8.8"
    },
    "colab": {
      "provenance": []
    }
  },
  "nbformat": 4,
  "nbformat_minor": 5
}