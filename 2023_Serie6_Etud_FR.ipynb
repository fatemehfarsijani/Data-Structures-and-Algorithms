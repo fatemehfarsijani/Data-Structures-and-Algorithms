{
 "cells": [
  {
   "cell_type": "markdown",
   "id": "3753f8ac-fd3a-4817-9c73-7772af832027",
   "metadata": {
    "id": "3753f8ac-fd3a-4817-9c73-7772af832027"
   },
   "source": [
    "# Série 5\n",
    "Ce document contient les différents exercices à réaliser. Veuillez compléter et rendre ces exercices pour la semaine prochaine.\n",
    "\n",
    "Pour chaque exercice:\n",
    "* implémentez ce qui est demandé\n",
    "* commentez votre code\n",
    "* expliquez **en français** ce que vous avez codé dans la cellule correspondante\n",
    "\n",
    "Dans vos explications à chacun des exercices, indiquez un pourcentage subjectif d'investissement de chaque membre du groupe. **Des interrogations aléatoires en classe pourront être réalisées pour vérifier votre contribution/compréhension.**\n",
    "\n",
    "Les tentatives infructueuses, les explications, commentaires et analyses des échecs **rapportent des points**. Ne rendez pas copie-blanche, même si votre fonction n'est pas correcte."
   ]
  },
  {
   "cell_type": "markdown",
   "id": "1fb0b066-c859-40a3-a8d6-7bcc656f8764",
   "metadata": {
    "id": "1fb0b066-c859-40a3-a8d6-7bcc656f8764"
   },
   "source": [
    "## Exercice 1\n",
    "Vous allez devoir implémenter un algorithme pour trouver la meilleure combinaison dans la multiplication de n matrices  M<sub>1</sub>, ..., M<sub>n</sub> dont le vecteur D=(d<sub>0</sub>,d<sub>1</sub>,...d<sub>n</sub>) fournit les dimenstion de la matrice M<sub>i</sub> = d<sub>i-1</sub> × d<sub>i</sub>\n",
    "\n",
    "Vous devez:\n",
    "* générer un nombre entier aléatoire *random* plus grand ou égal à 3 (le nombre de matrices)  \n",
    "* générer un vecteur de *random*+1 dimensions aléatoires comprises entre, 2 et 19: D<sub>*random*</sub>\n",
    "* générer random matrices à valeurs entières M<sub>i</sub> de dimension d<sub>i-1</sub> × d<sub>i</sub> pour i = 1, ..., *random*\n",
    "* programmer l'algorithme de recherche de la meilleures combinaison\n",
    "* trouver la meilleure combinaison et multiplier leurs matrices selon la meilleure combinaison\n",
    "* tester éventuellement avec des combinaisons aléatoires de leur suite de matrices (pour ce dernier exercice, il faut implémenter un compteur de multiplications scalaires dans la fonction de multiplication matricielle)"
   ]
  },
  {
   "cell_type": "code",
   "execution_count": null,
   "id": "f7d53256-24f6-4c2c-860f-2b0577daf6db",
   "metadata": {
    "colab": {
     "base_uri": "https://localhost:8080/"
    },
    "id": "f7d53256-24f6-4c2c-860f-2b0577daf6db",
    "outputId": "15200ddf-3e3f-429c-91ad-0abe72e33154"
   },
   "outputs": [
    {
     "name": "stdout",
     "output_type": "stream",
     "text": [
      "Vecteur de dimensions :\n",
      "14 [14, 17, 6, 3, 6, 6, 10, 15, 13, 9, 14, 5, 10, 18, 8]\n",
      "\n",
      "Matrices aléatoires :\n",
      "{0: [[5, 9, 12, 10, 13, 0, 17, 12, 4, 1, 7, 12, 13, 10, 13, 3, 1], [9, 4, 20, 15, 0, 3, 19, 15, 11, 9, 5, 12, 1, 15, 20, 15, 9], [4, 0, 9, 5, 18, 6, 0, 8, 17, 14, 4, 20, 6, 4, 18, 17, 11], [0, 1, 20, 3, 0, 20, 4, 12, 1, 16, 9, 18, 15, 19, 13, 13, 14], [8, 2, 3, 10, 11, 6, 14, 3, 9, 5, 1, 9, 9, 18, 18, 3, 10], [16, 0, 5, 17, 4, 16, 1, 0, 9, 1, 9, 0, 10, 3, 10, 8, 7], [2, 2, 13, 19, 7, 19, 10, 6, 18, 20, 16, 10, 18, 1, 9, 0, 2], [6, 3, 14, 10, 8, 5, 9, 13, 20, 13, 20, 0, 17, 4, 5, 1, 7], [17, 6, 7, 12, 17, 11, 5, 9, 12, 20, 0, 13, 6, 18, 1, 2, 0], [12, 19, 4, 2, 11, 11, 0, 4, 17, 18, 9, 8, 12, 6, 20, 4, 8], [19, 4, 2, 20, 12, 2, 8, 11, 11, 13, 10, 19, 16, 15, 7, 1, 7], [2, 16, 6, 5, 8, 3, 13, 12, 15, 9, 18, 18, 6, 7, 17, 16, 17], [16, 8, 7, 11, 7, 4, 11, 12, 5, 16, 4, 13, 3, 5, 3, 12, 14], [11, 17, 6, 7, 15, 10, 18, 16, 11, 6, 3, 9, 13, 14, 13, 11, 9]], 1: [[6, 5, 6, 8, 14, 0], [13, 4, 15, 3, 15, 10], [13, 18, 11, 8, 10, 5], [15, 11, 2, 0, 6, 4], [6, 14, 4, 17, 13, 18], [11, 6, 14, 4, 3, 10], [0, 13, 8, 4, 3, 7], [11, 5, 16, 20, 7, 15], [14, 18, 5, 12, 14, 11], [18, 5, 14, 6, 8, 18], [1, 3, 16, 5, 17, 11], [19, 3, 8, 0, 10, 10], [20, 20, 11, 13, 3, 0], [5, 11, 1, 14, 17, 18], [19, 16, 18, 20, 1, 20], [3, 2, 9, 18, 15, 16], [8, 9, 15, 16, 5, 15]], 2: [[1, 20, 8], [11, 20, 4], [13, 1, 16], [14, 11, 11], [18, 20, 15], [18, 0, 13]], 3: [[20, 1, 11, 0, 10, 17], [19, 8, 17, 16, 14, 11], [13, 7, 3, 2, 3, 3]], 4: [[13, 1, 11, 1, 13, 10], [6, 13, 15, 14, 19, 14], [9, 17, 4, 10, 2, 5], [7, 14, 1, 11, 7, 5], [5, 5, 6, 19, 16, 19], [5, 11, 8, 6, 9, 17]], 5: [[4, 16, 7, 4, 12, 4, 1, 5, 18, 16], [8, 9, 3, 12, 6, 2, 6, 3, 18, 12], [3, 20, 13, 17, 2, 7, 3, 18, 3, 8], [7, 19, 13, 15, 19, 4, 10, 6, 13, 4], [19, 6, 2, 0, 14, 5, 7, 16, 3, 9], [1, 7, 17, 5, 12, 10, 6, 7, 1, 3]], 6: [[14, 5, 9, 15, 1, 15, 1, 9, 6, 5, 7, 6, 3, 16, 5], [17, 4, 17, 10, 18, 12, 5, 14, 9, 9, 19, 2, 4, 2, 6], [15, 8, 6, 2, 11, 16, 0, 20, 20, 15, 6, 13, 14, 6, 11], [2, 10, 1, 18, 8, 8, 11, 19, 18, 10, 5, 11, 14, 7, 20], [8, 8, 12, 1, 13, 19, 13, 16, 2, 3, 16, 4, 5, 1, 10], [16, 0, 7, 15, 2, 18, 11, 16, 13, 4, 5, 6, 17, 15, 16], [13, 10, 16, 17, 5, 11, 3, 8, 8, 7, 18, 16, 15, 3, 10], [7, 10, 6, 9, 10, 5, 0, 7, 18, 16, 5, 3, 14, 16, 8], [5, 17, 0, 13, 16, 20, 13, 20, 15, 14, 1, 8, 17, 19, 3], [9, 18, 19, 14, 2, 14, 11, 11, 19, 11, 10, 9, 2, 3, 5]], 7: [[12, 15, 5, 2, 17, 17, 0, 2, 10, 2, 10, 19, 11], [12, 4, 13, 6, 4, 10, 13, 16, 7, 3, 17, 5, 10], [9, 11, 8, 16, 1, 14, 13, 17, 14, 6, 16, 16, 15], [11, 14, 19, 14, 7, 2, 11, 11, 10, 11, 18, 11, 2], [4, 5, 14, 14, 18, 18, 1, 17, 16, 17, 3, 3, 20], [18, 7, 17, 18, 18, 7, 18, 20, 6, 14, 7, 14, 3], [15, 7, 5, 8, 14, 3, 6, 3, 19, 1, 4, 16, 11], [4, 3, 10, 4, 11, 15, 16, 3, 18, 1, 1, 12, 4], [14, 4, 10, 3, 16, 7, 10, 2, 6, 13, 12, 14, 7], [8, 15, 10, 20, 10, 14, 3, 4, 8, 8, 9, 6, 2], [18, 14, 18, 2, 12, 19, 14, 10, 6, 17, 8, 15, 20], [17, 20, 11, 5, 16, 4, 12, 15, 15, 7, 12, 3, 9], [12, 19, 15, 9, 13, 5, 6, 3, 2, 15, 7, 11, 15], [0, 18, 20, 11, 3, 0, 13, 7, 0, 8, 16, 19, 3], [13, 2, 15, 9, 6, 11, 3, 7, 10, 14, 6, 10, 8]], 8: [[9, 16, 7, 6, 12, 8, 7, 14, 10], [1, 3, 17, 10, 19, 18, 16, 1, 6], [16, 7, 1, 9, 15, 10, 13, 12, 4], [10, 19, 16, 1, 6, 13, 16, 3, 9], [1, 18, 10, 7, 0, 10, 8, 6, 5], [19, 5, 10, 19, 11, 13, 0, 4, 19], [3, 14, 11, 16, 10, 1, 9, 1, 11], [2, 6, 8, 3, 10, 17, 12, 15, 0], [1, 9, 6, 19, 19, 15, 4, 4, 9], [6, 14, 5, 4, 5, 0, 11, 10, 2], [4, 11, 7, 1, 9, 9, 0, 3, 2], [13, 1, 13, 10, 18, 5, 7, 3, 11], [10, 5, 1, 2, 1, 18, 18, 20, 6]], 9: [[11, 4, 14, 20, 19, 16, 13, 3, 16, 6, 15, 20, 6, 10], [20, 18, 17, 14, 9, 20, 12, 0, 16, 8, 11, 10, 5, 6], [8, 5, 19, 0, 9, 0, 12, 11, 2, 14, 13, 6, 3, 17], [5, 15, 4, 19, 14, 11, 3, 4, 1, 14, 3, 1, 7, 10], [12, 4, 7, 11, 12, 9, 10, 17, 12, 2, 13, 8, 3, 1], [2, 1, 0, 11, 19, 2, 7, 16, 7, 7, 20, 18, 6, 6], [7, 14, 3, 8, 13, 14, 12, 16, 2, 2, 8, 15, 20, 3], [6, 20, 14, 2, 18, 7, 1, 12, 5, 1, 13, 20, 20, 12], [9, 10, 18, 0, 19, 13, 6, 1, 16, 17, 4, 8, 10, 5]], 10: [[3, 10, 2, 8, 20], [20, 10, 5, 15, 7], [6, 14, 20, 7, 1], [3, 3, 7, 14, 15], [18, 0, 18, 6, 6], [13, 2, 12, 12, 8], [6, 5, 13, 6, 15], [4, 10, 11, 18, 14], [4, 0, 5, 1, 0], [12, 14, 15, 13, 13], [1, 14, 12, 6, 4], [8, 5, 4, 9, 11], [6, 1, 17, 6, 20], [17, 18, 12, 11, 5]], 11: [[13, 10, 5, 9, 20, 4, 16, 20, 15, 3], [7, 9, 7, 0, 6, 3, 6, 5, 0, 12], [15, 5, 9, 14, 20, 9, 13, 11, 3, 12], [7, 5, 10, 4, 20, 3, 12, 14, 15, 7], [11, 7, 15, 13, 13, 4, 7, 12, 17, 18]], 12: [[3, 9, 7, 17, 9, 7, 6, 15, 0, 15, 2, 11, 14, 0, 11, 12, 11, 0], [14, 1, 7, 6, 20, 11, 5, 12, 14, 8, 1, 11, 3, 15, 4, 16, 12, 17], [7, 7, 14, 3, 14, 4, 12, 16, 4, 6, 14, 16, 11, 15, 15, 8, 14, 10], [9, 20, 2, 1, 7, 8, 7, 15, 2, 13, 12, 14, 17, 15, 11, 1, 16, 17], [0, 5, 6, 4, 6, 0, 13, 12, 0, 6, 2, 12, 2, 7, 6, 18, 17, 12], [5, 7, 11, 15, 7, 6, 20, 13, 11, 10, 9, 4, 0, 11, 1, 11, 17, 18], [19, 7, 19, 14, 19, 4, 12, 15, 20, 11, 10, 18, 4, 13, 15, 9, 20, 5], [15, 14, 11, 12, 1, 0, 18, 9, 13, 8, 15, 19, 12, 16, 20, 2, 18, 17], [14, 14, 9, 2, 3, 12, 6, 20, 9, 3, 5, 11, 4, 17, 15, 4, 20, 9], [9, 19, 14, 9, 11, 3, 8, 2, 3, 14, 6, 2, 6, 15, 15, 8, 11, 9]], 13: [[3, 15, 6, 4, 8, 9, 20, 16], [11, 3, 18, 1, 1, 10, 6, 17], [19, 2, 18, 9, 12, 19, 13, 5], [12, 20, 13, 16, 11, 20, 16, 1], [20, 17, 18, 10, 19, 7, 0, 14], [19, 10, 2, 11, 0, 12, 7, 19], [10, 16, 0, 17, 12, 8, 8, 17], [8, 11, 20, 0, 10, 15, 9, 20], [6, 17, 0, 4, 20, 14, 4, 9], [17, 18, 12, 15, 14, 19, 8, 9], [15, 14, 15, 20, 4, 3, 8, 3], [3, 14, 0, 4, 9, 4, 13, 14], [14, 14, 10, 5, 1, 16, 20, 1], [10, 19, 3, 2, 11, 9, 15, 15], [10, 7, 6, 20, 14, 7, 6, 19], [17, 7, 15, 15, 11, 16, 11, 19], [16, 15, 11, 7, 5, 19, 19, 8], [13, 20, 2, 7, 4, 6, 5, 9]]}\n",
      "\n",
      "best_n_mult :\n",
      "14\n",
      "0 2 1428\n",
      "1 3 306\n",
      "0 3 1020\n",
      "2 4 108\n",
      "1 4 612\n",
      "0 4 1272\n",
      "3 5 108\n",
      "2 5 216\n",
      "1 5 720\n",
      "0 5 1380\n",
      "4 6 360\n",
      "3 6 288\n",
      "2 6 468\n",
      "1 6 1104\n",
      "0 6 1728\n",
      "5 7 900\n",
      "4 7 1260\n",
      "3 7 738\n",
      "2 7 1008\n",
      "1 7 1809\n",
      "0 7 2388\n",
      "6 8 1950\n",
      "5 8 2070\n",
      "4 8 2430\n",
      "3 8 1323\n",
      "2 8 1557\n",
      "1 8 2292\n",
      "0 8 2889\n",
      "7 9 1755\n",
      "6 9 3105\n",
      "5 9 2772\n",
      "4 9 3096\n",
      "3 9 1674\n",
      "2 9 1836\n",
      "1 9 2439\n",
      "0 9 3072\n",
      "8 10 1638\n",
      "7 10 3645\n",
      "6 10 4365\n",
      "5 10 3528\n",
      "4 10 3852\n",
      "3 10 2052\n",
      "2 10 2304\n",
      "1 10 3072\n",
      "0 10 3660\n",
      "9 11 630\n",
      "8 11 1215\n",
      "7 11 2190\n",
      "6 11 2940\n",
      "5 11 3240\n",
      "4 11 3420\n",
      "3 11 2262\n",
      "2 11 2352\n",
      "1 11 2823\n",
      "0 11 3492\n",
      "10 12 700\n",
      "9 12 1080\n",
      "8 12 1865\n",
      "7 12 2940\n",
      "6 12 3440\n",
      "5 12 3540\n",
      "4 12 3720\n",
      "3 12 2412\n",
      "2 12 2592\n",
      "1 12 3228\n",
      "0 12 3852\n",
      "11 13 900\n",
      "10 13 2160\n",
      "9 13 2340\n",
      "8 13 3285\n",
      "7 13 4440\n",
      "6 13 4740\n",
      "5 13 4620\n",
      "4 13 4800\n",
      "3 13 2952\n",
      "2 13 3276\n",
      "1 13 4176\n",
      "0 13 4728\n",
      "12 14 1440\n",
      "11 14 1620\n",
      "10 14 2180\n",
      "9 14 2610\n",
      "8 14 3355\n",
      "7 14 4410\n",
      "6 14 4960\n",
      "5 14 5100\n",
      "4 14 5280\n",
      "3 14 3384\n",
      "2 14 3528\n",
      "1 14 4098\n",
      "0 14 4740\n",
      "[[0, 0, 1428, 1020, 1272, 1380, 1728, 2388, 2889, 3072, 3660, 3492, 3852, 4728, 4740], [0, 0, 0, 306, 612, 720, 1104, 1809, 2292, 2439, 3072, 2823, 3228, 4176, 4098], [0, 0, 0, 0, 108, 216, 468, 1008, 1557, 1836, 2304, 2352, 2592, 3276, 3528], [0, 0, 0, 0, 0, 108, 288, 738, 1323, 1674, 2052, 2262, 2412, 2952, 3384], [0, 0, 0, 0, 0, 0, 360, 1260, 2430, 3096, 3852, 3420, 3720, 4800, 5280], [0, 0, 0, 0, 0, 0, 0, 900, 2070, 2772, 3528, 3240, 3540, 4620, 5100], [0, 0, 0, 0, 0, 0, 0, 0, 1950, 3105, 4365, 2940, 3440, 4740, 4960], [0, 0, 0, 0, 0, 0, 0, 0, 0, 1755, 3645, 2190, 2940, 4440, 4410], [0, 0, 0, 0, 0, 0, 0, 0, 0, 0, 1638, 1215, 1865, 3285, 3355], [0, 0, 0, 0, 0, 0, 0, 0, 0, 0, 0, 630, 1080, 2340, 2610], [0, 0, 0, 0, 0, 0, 0, 0, 0, 0, 0, 0, 700, 2160, 2180], [0, 0, 0, 0, 0, 0, 0, 0, 0, 0, 0, 0, 0, 900, 1620], [0, 0, 0, 0, 0, 0, 0, 0, 0, 0, 0, 0, 0, 0, 1440], [0, 0, 0, 0, 0, 0, 0, 0, 0, 0, 0, 0, 0, 0, 0], [0, 0, 0, 0, 0, 0, 0, 0, 0, 0, 0, 0, 0, 0, 0]]\n",
      "\n",
      "write_pivots_in_postorder :\n",
      "2\n",
      "1\n",
      "4\n",
      "5\n",
      "6\n",
      "7\n",
      "8\n",
      "9\n",
      "10\n",
      "11\n",
      "12\n",
      "13\n",
      "3\n",
      "\n",
      "Matrice finale :\n",
      "[[185840503488897489445655824, 204031974733006772189780243, 146172416980721851641261542, 136569023685859153928512403, 143643797951543881880870059, 181681623236507404852946450, 165543878307575544194684314, 189270954840850074131652461], [237543103236623446202794311, 260795615140327344697263104, 186838976904354212698308698, 174563828073433715968871712, 183606871921874531851353011, 232227182829912948423766449, 211599763306709466500642442, 241927938657483692351937888], [226705798507539304168730806, 248897473203813336444647527, 178314920008312558395553408, 166599793869711347962217867, 175230271645736409315662991, 221632403545848930239591780, 201946057976928173162941336, 230890586843350572278582399], [235755132811023679232177805, 258832624602681758534138958, 185432652923308982090362319, 173249898280163151167800484, 182224875720502341637509178, 230479224931733529306562535, 210007066510656173518685765, 240106963773177253461208219], [184856436889991583425131568, 202951580272168922257918372, 145398401679788210846210427, 135845860492667939183609694, 142883172256588785319719009, 180719578836790445680027920, 164667286816658401369746493, 188268723207428237978454875], [144086358505707116026610707, 158190618868668310712081433, 113330791088284841242408616, 105885062381088518936883409, 111370295382335551214229612, 140861884287906643202270923, 128349924552920365346651244, 146746065304878612851845131], [218433414179256021061227354, 239815325517988778310404622, 171808295289526807807098909, 160520648337952075279587300, 168836204260693453692627963, 213545144935363874824216770, 194577144711858219333013059, 222465501923559443347466283], [207392200918941858600831560, 227693314971166835213017363, 163123854609115707735797418, 152406767457703981193642283, 160301994693212335193860431, 202751020368740237384847354, 184741800758198212573983766, 211220477532013781043257777], [201366461118966666309392861, 221077730286174018850733158, 158384322943774570985983517, 147978618655473693419046656, 155644451619701629094285284, 196860129163529229053566391, 179374163922414901556586855, 205083507938969741601769209], [228707058070176290976104886, 251094631138939339668437099, 179889006077498606833847259, 168070463912542634081838793, 176777127769194918203434528, 223588877381717708279201380, 203728749391838265621066421, 232928787914447766782307770], [224919886623687881932388671, 246936742869000952705096825, 176910215143372752572180895, 165287376766889057704346419, 173849866638421313132607865, 219886458178291743413477383, 200355195170571343910498973, 229071708906398581925023734], [250971509480043231591295825, 275538495045897082794122719, 197401058705700329585760836, 184431990853571172431981151, 193986241486522882693049372, 245355077940024926528783649, 223561582038615782815393976, 255604221136971934292592625], [187482221166743716839939337, 205834396025754944009051389, 147463706228814311659846539, 137775476445354486769918567, 144912749282102821834378663, 183286601266176939013472293, 167006295136136963456026569, 190942976925928615439261274], [248188749396544244378195491, 272483337498148533786202463, 195212285200680035196870938, 182387017723709539317608267, 191835331365881981998830796, 242634592616166991416839567, 221082742083058237823364394, 252770094012495138866356451]]\n"
     ]
    }
   ],
   "source": [
    "import sys\n",
    "class MatrixMult:\n",
    "    nmbre_matr = 1\n",
    "    dimensions = []\n",
    "    MAX_VALUE = sys.maxsize\n",
    "\n",
    "    def __init__(self, dimensions, nmbre_matr):\n",
    "        self.nmbre_matr = nmbre_matr\n",
    "        self.dimensions = dimensions\n",
    "        self.best_pivot = [[0 for i in range(nmbre_matr+1)] for j in range(nmbre_matr+1)]\n",
    "        self.pivots_in_postorder = []\n",
    "\n",
    "    def best_n_mult(self,high):\n",
    "        print(high)\n",
    "        best_value = [[0 for i in range(high+1)] for j in range(high+1)]\n",
    "        h=2\n",
    "        while h<=high:\n",
    "            l=h-2\n",
    "            while l>=0:\n",
    "                min_n_mult = self.MAX_VALUE+1\n",
    "                i=l+1\n",
    "                while i<=h-1:\n",
    "                    n_mult = self.dimensions[l]*self.dimensions[i]*self.dimensions[h] + best_value[l][i] + best_value[i][h]\n",
    "                    if min_n_mult > n_mult:\n",
    "                        min_n_mult = n_mult\n",
    "                        self.best_pivot[l][h] = i\n",
    "                    i+=1\n",
    "                best_value[l][h] = min_n_mult\n",
    "                print(l,h,best_value[l][h])\n",
    "                l-=1\n",
    "            h+=1\n",
    "        print(best_value)\n",
    "        return best_value[0][high]\n",
    "\n",
    "    def write_pivots_in_postorder(self,l,h):\n",
    "        if ( l+1 < h ):\n",
    "            b = self.best_pivot[l][h]\n",
    "            self.write_pivots_in_postorder(l, b)\n",
    "            self.write_pivots_in_postorder(b, h)\n",
    "            self.pivots_in_postorder.append(b)\n",
    "            print(b)\n",
    "\n",
    "# Fonction qui génère \"nmbre_matr\" matrices.\n",
    "# Chaque matrice aura une taille de di-1 × di où i = 0..., nmbre_matr\n",
    "def generate_matrices(dimensions, nmbre_matr):\n",
    "    matrices = {}\n",
    "    # Nous créons une matrice à la fois (jusqu'à atteindre nmbre_matr matrices créées)\n",
    "    for i in range(0, nmbre_matr):\n",
    "        # Nous lui attribuons les bonnes dimensions.\n",
    "        new_matrix = [ [0]*dimensions[i+1] for x in range(0, dimensions[i])]\n",
    "        # Nous ajoutons un entier aléatoire dans chaque cellule de la matrice\n",
    "        for j in range(0, dimensions[i]):\n",
    "            for k in range(0, dimensions[i+1]):\n",
    "                new_matrix[j][k] = random.randint(0, 20)\n",
    "        # Nous ajoutons la matrice nouvellement créée au dictionnaire de résultat :\n",
    "        # matrices{numéro_de_matrice: nouvelle_matrice}\n",
    "        matrices[i] = new_matrix\n",
    "    return matrices\n",
    "\n",
    "# Fonction qui multiplie deux matrices ensemble\n",
    "def multiply_matrices(m1, m2):\n",
    "    #print(m1, \" * \", m2)\n",
    "    m3 = [[0 for i in range(len(m2[0]))] for j in range(len(m1))]\n",
    "    for i in range(len(m1)):\n",
    "        for j in range(len(m2[0])):\n",
    "            for k in range(len(m2)):\n",
    "                m3[i][j] += m1[i][k] * m2[k][j]\n",
    "    return m3\n",
    "\n",
    "# Fonction qui multiplie les matrices dans le bon ordre.\n",
    "def do_operation(pivots, matrices):\n",
    "    # Dictionnaire curr_state sous la forme de {chaîne: matrice}\n",
    "    # où la chaîne correspond aux matrices qui ont été multipliées pour obtenir la matrice (valeur)\n",
    "    curr_state = {}\n",
    "    # Pour chaque pivot (ce sera la bonne matrice pour la multiplication), nous le recherchons dans la liste des clés\n",
    "    # (c'est-à-dire qu'il a déjà été utilisé dans une multiplication précédente).\n",
    "    # S'il est présent, nous sauvegardons m2. S'il n'est pas présent, le pivot est une matrice \"unique\" (c'est-à-dire qu'elle n'a pas encore été utilisée dans une multiplication)\n",
    "    for i in range(0, len(pivots)):\n",
    "        curr_pivot = pivots[i]\n",
    "        m1 = []\n",
    "        m2 = []\n",
    "        new_string = \"\"\n",
    "        for key in list(curr_state):\n",
    "            # Utilisez split() pour séparer la chaîne en plusieurs parties.\n",
    "            # Cela évitera de trouver un \"1\" lorsque nous avons un \"12\" mais pas de \"1\" seul par exemple.\n",
    "            split_key = key.split(\"-\")\n",
    "            if str(curr_pivot) in split_key:\n",
    "                m2 = curr_state[key]\n",
    "                new_string = key + \"-\" + str(curr_pivot)\n",
    "                curr_state.pop(key)\n",
    "                break\n",
    "        else:\n",
    "            m2 = matrices[curr_pivot]\n",
    "            new_string = new_string + \"-\" + str(curr_pivot)\n",
    "        # Ensuite, nous recherchons m1 (la matrice de gauche pour la multiplication) pour chaque pivot-1,\n",
    "        # nous vérifions s'il est présent dans la liste des clés.\n",
    "        # S'il l'est, nous sauvegardons m1. S'il ne l'est pas, nous avons également une matrice \"unique\".\n",
    "        # Nous effectuons la multiplication avec m1 et m2\n",
    "        for key in list(curr_state):\n",
    "            # Utilisez split() pour séparer la chaîne en plusieurs parties.\n",
    "            # Cela évitera de trouver un \"1\" lorsque nous avons un \"12\" mais pas de \"1\" seul par exemple.\n",
    "            split_key = key.split(\"-\")\n",
    "            if str(curr_pivot-1) in split_key:\n",
    "                m1 = curr_state[key]\n",
    "                new_string = key + \"-\" + str(curr_pivot)\n",
    "                curr_state.pop(key)\n",
    "                break\n",
    "        else:\n",
    "            m1 = matrices[curr_pivot-1]\n",
    "            new_string = new_string + \"-\" + str(curr_pivot-1)\n",
    "        # Nous avons m1 et m2, maintenant nous effectuons la multiplication avec m1 et m2\n",
    "        temp = multiply_matrices(m1, m2)\n",
    "        # Nous mettons à jour curr_state\n",
    "        curr_state[new_string] = temp\n",
    "    return list(curr_state.items())[0][1]\n",
    "\n",
    "import random\n",
    "nmbre_matr = random.randint(2, 18) # Nombre de matrices\n",
    "dimensions = [0] * (nmbre_matr+1) # vecteur de dimensions\n",
    "# Remplit le vecteur de dimensions avec nmbre_matr+1 nombres aléatoires entre 2 et 19\n",
    "for i in range(0, nmbre_matr+1):\n",
    "    n = random.randint(2, 19)\n",
    "    dimensions[i] = n\n",
    "print(\"Vecteur de dimensions :\")\n",
    "print(nmbre_matr, dimensions)\n",
    "print()\n",
    "\n",
    "# Génère les matrices aléatoires\n",
    "matrices = generate_matrices(dimensions, nmbre_matr)\n",
    "print(\"Matrices aléatoires :\")\n",
    "print(matrices)\n",
    "print()\n",
    "a = MatrixMult(dimensions, nmbre_matr)\n",
    "print(\"best_n_mult :\")\n",
    "a.best_n_mult(nmbre_matr)\n",
    "print()\n",
    "print(\"write_pivots_in_postorder :\")\n",
    "a.write_pivots_in_postorder(0, nmbre_matr)\n",
    "print()\n",
    "\n",
    "pivots = a.pivots_in_postorder\n",
    "final_matrix = do_operation(pivots, matrices)\n",
    "\n",
    "print(\"Matrice finale :\")\n",
    "print(final_matrix)\n"
   ]
  },
  {
   "cell_type": "code",
   "execution_count": null,
   "id": "c1fd10ee-e325-40e9-8e21-081905a50ec5",
   "metadata": {
    "colab": {
     "base_uri": "https://localhost:8080/"
    },
    "id": "c1fd10ee-e325-40e9-8e21-081905a50ec5",
    "outputId": "3c9941f5-b0af-48bf-f778-f65d9366e368"
   },
   "outputs": [
    {
     "name": "stdout",
     "output_type": "stream",
     "text": [
      "Dimensions vector:\n",
      "5 [3, 3, 3, 3, 2, 2]\n",
      "\n",
      "\"Random\" matrices: \n",
      "[[[10, 6, 19], [7, 16, 13], [8, 12, 18]], [[13, 20, 14], [6, 8, 5], [14, 3, 9]], [[15, 18, 1], [7, 7, 6], [6, 20, 17]], [[4, 1], [14, 14], [15, 9]], [[6, 10], [17, 17]]]\n",
      "\n",
      "best_n_mult: \n",
      "5\n",
      "0 2 27\n",
      "1 3 27\n",
      "0 3 54\n",
      "2 4 18\n",
      "1 4 36\n",
      "0 4 54\n",
      "3 5 12\n",
      "2 5 30\n",
      "1 5 48\n",
      "0 5 66\n",
      "[[0, 0, 27, 54, 54, 66], [0, 0, 0, 27, 36, 48], [0, 0, 0, 0, 18, 30], [0, 0, 0, 0, 0, 12], [0, 0, 0, 0, 0, 0], [0, 0, 0, 0, 0, 0]]\n",
      "\n",
      "write_pivots_in_postorder: \n",
      "4\n",
      "3\n",
      "2\n",
      "1\n",
      "\n",
      "Final matrix:\n",
      "[[7782820, 9373872], [6874034, 8281554], [7700480, 9274968]]\n"
     ]
    }
   ],
   "source": [
    "# Nous vous mettons à disposition une matrice pour que vous puissiez tester votre algorithme de multiplication matricielle.\n",
    "# Vous devez quand même implémenter la partie \"aléatoire\" demandée et la tester vous-même.\n",
    "dimensions = [3, 3, 3, 3, 2, 2]\n",
    "nmbre_matr = 5\n",
    "print(\"Dimensions vector:\")\n",
    "print(nmbre_matr, dimensions)\n",
    "print()\n",
    "\n",
    "print(\"\\\"Random\\\" matrices: \")\n",
    "# Vous pouvez convertir l'équivalent de cette matrice 3D en la structure de données que vous avez implémentée\n",
    "matrices = [[[10,6,19],[7,16,13],[8,12,18]],[[13,20,14],[6,8,5],[14,3,9]],[[15,18,1],[7,7,6],[6,20,17]],[[4,1],[14,14],[15,9]],[[6,10],[17,17]]]\n",
    "print(matrices)\n",
    "print()\n",
    "a = MatrixMult(dimensions, nmbre_matr)\n",
    "print(\"best_n_mult: \")\n",
    "a.best_n_mult(nmbre_matr)\n",
    "print()\n",
    "print(\"write_pivots_in_postorder: \")\n",
    "a.write_pivots_in_postorder( 0, nmbre_matr)\n",
    "print()\n",
    "\n",
    "# Fonction qui multiplie les matrices dans le bon ordre.\n",
    "# Vous n'êtes pas obligé de l'utiliser et vous pouvez utiliser une autre fonction que vous avez créée.\n",
    "# Si c'est le cas, apportez les modifications nécessaires ici pour que l'assertion fonctionne\n",
    "pivots = a.pivots_in_postorder\n",
    "final_matrix = do_operation(pivots, matrices)\n",
    "\n",
    "print(\"Final matrix:\")\n",
    "print(final_matrix)\n",
    "assert final_matrix == [[7782820,9373872],[6874034,8281554],[7700480,9274968]]"
   ]
  },
  {
   "cell_type": "markdown",
   "id": "2ca32f2e-e995-477c-8535-62f6e42dc093",
   "metadata": {
    "id": "2ca32f2e-e995-477c-8535-62f6e42dc093"
   },
   "source": [
    "### Explications"
   ]
  },
  {
   "cell_type": "markdown",
   "id": "f5a17952-cba5-4bc4-9a41-aa68a0b0d806",
   "metadata": {
    "id": "f5a17952-cba5-4bc4-9a41-aa68a0b0d806"
   },
   "source": [
    "(Voir les commentaires dans le code) Autrement voilà une brève explication :\n",
    "\n",
    "- Le code génère un nombre aléatoire de matrices avec des dimensions aléatoires.\n",
    "- Il stocke ces matrices dans un dictionnaire appelé matrices.\n",
    "- Ensuite, il crée une instance de la classe MatrixMult, qui est conçue pour résoudre le problème de la multiplication matricielle optimale. Cette classe contient des méthodes pour calculer la séquence optimale de multiplication de matrices.\n",
    "- La méthode best_n_mult de la classe MatrixMult utilise un algorithme de programmation dynamique pour trouver la séquence de multiplication optimale et renvoie le coût minimum de multiplication.\n",
    "- La méthode write_pivots_in_postorder génère une liste de pivots en post-ordre, ce qui est utile pour déterminer l’ordre de multiplication correct des matrices.\n",
    "- Finalement, le code utilise ces pivots pour effectuer la multiplication des matrices dans le bon ordre en utilisant la méthode do_operation.\n",
    "- La matrice résultante est stockée dans la variable final_matrix, et elle est affichée à la fin du code."
   ]
  },
  {
   "cell_type": "markdown",
   "id": "X8kNNBha4QW-",
   "metadata": {
    "id": "X8kNNBha4QW-"
   },
   "source": [
    "## Exercice 2 - La revanche du puits magique"
   ]
  },
  {
   "cell_type": "markdown",
   "id": "yGjdSF4E4d6U",
   "metadata": {
    "id": "yGjdSF4E4d6U"
   },
   "source": [
    "*Cet exercise ne compte que pour 1 point sur 6.*\n",
    "\n",
    "Lors du cours de récurrence, vous aviez certainement effectué une recherche exhaustive en créant un arbre des possibilités et en prenant le minimum parmi les feuilles. Cet algorithme, tout à fait correct pour une première approche, avait cependant une complexité temporelle de $O(3^L)$. Nous allons utiliser la programmation dynamique pour améliorer cela.\n",
    "\n",
    "Prenons une liste $u$ de termes $u_{i}$ correspondant au plus petit nombre de pièces pour obtenir $i$ fleurs. Que valent $u_0$ et $u_1$ ?"
   ]
  },
  {
   "cell_type": "markdown",
   "id": "Rc6GJuHE6AzN",
   "metadata": {
    "id": "Rc6GJuHE6AzN"
   },
   "source": [
    "In the context of dynamic programming, the list u is initialized with $u[0]$ and $u[1]$ which represent the minimum number of coins needed to get 0 and 1 flowers respectively.\n",
    "\n",
    "$u[0]$ is 0 because you don't need any coins to get 0 flowers.\n",
    "\n",
    "$u[1]$ is 1 because you need to throw one coin into the well to get one flower.\n",
    "\n",
    "These base cases are used to build up the solutions to larger subproblems.\n",
    "\n",
    "We'd like to share that we also used dynamic programming to solve this question in Serie4. :)"
   ]
  },
  {
   "cell_type": "markdown",
   "id": "akkkVK9p6BXw",
   "metadata": {
    "id": "akkkVK9p6BXw"
   },
   "source": [
    "Pour $i>1$, il existe deux façons possibles d'obtenir $i$ fleurs - soit nous collectons d'abord $i-1$ fleurs, puis utilisons une opération d'une pièce pour obtenir un autre fleurs, soit la dernière opération doit avoir été une opération de deux pièces. Cela signifie que nous avions demandé au puits de se souvenir de l'état de notre panier à $k$ fleurs (où $k$ est un diviseur de $i$) et ensuite appliqué $\\frac{i}{k}-1$ opérations de deux pièces.\n",
    "\n",
    "Avec une expression plus formelle, nous aurions une formule similaire à cela (formule $(1)$) :"
   ]
  },
  {
   "cell_type": "markdown",
   "id": "qUpH5bxn7Nmm",
   "metadata": {
    "id": "qUpH5bxn7Nmm"
   },
   "source": [
    "$$u_{i}=\\min \\left(□, \\min _{k \\mid i}\\left\\{u_{k}+4+2\\left(\\frac{i}{k}-1\\right)\\right\\}\\right).$$"
   ]
  },
  {
   "cell_type": "markdown",
   "id": "DpDO2067DkqW",
   "metadata": {
    "id": "DpDO2067DkqW"
   },
   "source": [
    "Que faudrait-il mettre à la place du \"□\" ?"
   ]
  },
  {
   "cell_type": "markdown",
   "id": "34nUc0pHEBYh",
   "metadata": {
    "id": "34nUc0pHEBYh"
   },
   "source": [
    "“□” should be replaced with $u_{i-1} + 1$. This represents the scenario where you first collect $i−1$ flowers, then use a one-coin operation to get another flower. Hence, formula (1) will be as follows:\n",
    "\n",
    "$$u_{i}=\\min \\left(u_{i-1} + 1, \\min _{k \\mid i}\\left\\{u_{k}+4+2\\left(\\frac{i}{k}-1\\right)\\right\\}\\right).$$"
   ]
  },
  {
   "cell_type": "markdown",
   "id": "WJmAu0hf8kiU",
   "metadata": {
    "id": "WJmAu0hf8kiU"
   },
   "source": [
    "Au lieu d'itérer sur les diviseurs de $i$ comme la formule nous le permettrait, nous allons procéder comme suit :\n",
    "\n",
    "Au début, nous pouvons dire que toutes les valeurs de la suite, les $u_i$ (sauf $u_0$ et $u_1$), sont égales à l'infini. Maintenant, parcourons toutes les valeurs de $i$ de $2$ à $N$ ($N$ étant un entier que vous choisirez à votre convenance...). Une des possibilités est d'utiliser une pièce et ainsi passer de $i-1$ fleurs à $i$ fleurs, donc nous pouvons dire que $u_i\\leftarrow \\min(u_i, u_{i-1}+1)$.\n",
    "\n",
    "À présent, lorsque nous avons déjà $i$ fleurs, nous pouvons également utiliser quatre pièces pour mémoriser l'état de notre panier, puis obtenir plus tard $j \\cdot i$ fleurs du puits. Nous devrions donc mettre à jour $u_i$ pour tous les multiples de $i$ avec la formule $(2)$:"
   ]
  },
  {
   "cell_type": "markdown",
   "id": "tpQtWF92ErxG",
   "metadata": {
    "id": "tpQtWF92ErxG"
   },
   "source": [
    "$$u_{j \\cdot i} = \\min(u_{j \\cdot i}, u_i + 4 + 2 \\cdot (j - 1)), i < j \\cdot i ≤ N$$"
   ]
  },
  {
   "cell_type": "markdown",
   "id": "-rAClpJFEx5D",
   "metadata": {
    "id": "-rAClpJFEx5D"
   },
   "source": [
    "Implémentez ce travail dans la fonction suivante :"
   ]
  },
  {
   "cell_type": "code",
   "execution_count": 14,
   "id": "UeKGIG_94RdC",
   "metadata": {
    "id": "UeKGIG_94RdC"
   },
   "outputs": [],
   "source": [
    "import math\n",
    "\n",
    "def min_well_coin(L):\n",
    "    U = [math.inf] * (L + 1)\n",
    "    U[0] = 0\n",
    "    U[1] = 1\n",
    "\n",
    "    # For each i...\n",
    "    for i in range(2, L + 1):\n",
    "        # u_i can be obtained from u_i-1\n",
    "        U[i] = min(U[i], U[i - 1] + 1) # None  # A COMPLETER\n",
    "        # We then update all divisors of i\n",
    "        for k in range(1, i):\n",
    "            division_condition = i % k == 0 # None  # A COMPLETER\n",
    "            if division_condition:\n",
    "                # Formula (2):\n",
    "                U[i] = min(U[i], U[k] + 4 + 2 * (i // k - 1)) # min(None, None)  # A COMPLETER\n",
    "\n",
    "    # Return the correct term from the U sequence\n",
    "    return U[L] # None  # A COMPLETER"
   ]
  },
  {
   "cell_type": "code",
   "execution_count": 15,
   "id": "FXxForz_APsN",
   "metadata": {
    "id": "FXxForz_APsN"
   },
   "outputs": [],
   "source": [
    "assert min_well_coin(12) == 12\n",
    "assert min_well_coin(13) == 13\n",
    "assert min_well_coin(15) == 13\n",
    "assert min_well_coin(16) == 14\n",
    "assert min_well_coin(17) == 15\n",
    "assert min_well_coin(18) == 14\n",
    "assert min_well_coin(19) == 15\n",
    "assert min_well_coin(21) == 15\n",
    "assert min_well_coin(22) == 16\n",
    "assert min_well_coin(23) == 17\n",
    "assert min_well_coin(93) == 27\n",
    "assert min_well_coin(94) == 28\n",
    "assert min_well_coin(96) == 26\n",
    "assert min_well_coin(97) == 27"
   ]
  },
  {
   "cell_type": "markdown",
   "id": "1HZp1MJnHxqy",
   "metadata": {
    "id": "1HZp1MJnHxqy"
   },
   "source": [
    "Que pouvait-on choisir pour $N$ en fin de compte ?"
   ]
  },
  {
   "cell_type": "markdown",
   "id": "D7d5dWC4H6GD",
   "metadata": {
    "id": "D7d5dWC4H6GD"
   },
   "source": [
    "The variable N in the code signifies the maximum quantity of flowers for which you wish to compute the least number of coins. The selection of N is dependent on the specific problem or range of interest. N can be any positive integer that encompasses the range of flower quantities you're interested in. If your goal is to determine the minimum number of coins required for a specific quantity of flowers, you would assign that number to N. If you're interested in a range of values, you would adjust N accordingly."
   ]
  },
  {
   "cell_type": "markdown",
   "id": "qpkOqmB8E20g",
   "metadata": {
    "id": "qpkOqmB8E20g"
   },
   "source": [
    "Affichez sur un graphe les valeurs de la fonction pour $L$ allant de $0$ à $1000$. Quel est l'aspect du graphe ?"
   ]
  },
  {
   "cell_type": "code",
   "execution_count": 45,
   "id": "OL5W4uOAFDaZ",
   "metadata": {
    "colab": {
     "base_uri": "https://localhost:8080/",
     "height": 472
    },
    "id": "OL5W4uOAFDaZ",
    "outputId": "4f88e183-0f9d-470d-8ed4-c08c867513f8"
   },
   "outputs": [
    {
     "data": {
      "image/png": "[encoded data removed]",
      "text/plain": [
       "<Figure size 640x480 with 1 Axes>"
      ]
     },
     "metadata": {},
     "output_type": "display_data"
    }
   ],
   "source": [
    "# A COMPLETER\n",
    "import matplotlib.pyplot as plt\n",
    "import numpy as np\n",
    "\n",
    "# create a list of values for the number of flowers (L) from 0 to 1000\n",
    "L_values = list(range(1001))\n",
    "min_coins = []                      # create an empty list to store the minimum coin counts\n",
    "\n",
    "# iterate through each value of L\n",
    "for L in L_values:\n",
    "    if L == 0:\n",
    "        # if L is 0, you don't need any coins to obtain 0 flowers\n",
    "        min_coins.append(0)\n",
    "    elif L == 1:\n",
    "        # if L is 1, you can obtain 1 flower with 1 coin\n",
    "        min_coins.append(1)\n",
    "    else:\n",
    "        # for L > 1, use the min_well_coin function to calculate the minimum coins needed\n",
    "        min_coins.append(min_well_coin(L))\n",
    "\n",
    "# plot the results\n",
    "plt.plot(L_values, min_coins, 'b')\n",
    "plt.plot(L_values, np.log(L_values), 'g')\n",
    "plt.plot(L_values, np.exp(-L_values), 'b')\n",
    "plt.xlabel('Number of Flowers (L)')\n",
    "plt.ylabel('Minimum Number of Coins')\n",
    "plt.title('Minimum Coins vs. Number of Flowers')\n",
    "plt.grid()\n",
    "plt.show()"
   ]
  },
  {
   "cell_type": "markdown",
   "id": "qdCXdJCdFFuw",
   "metadata": {
    "id": "qdCXdJCdFFuw"
   },
   "source": [
    "### Explications"
   ]
  },
  {
   "cell_type": "markdown",
   "id": "oNzBakvJFPFL",
   "metadata": {
    "id": "oNzBakvJFPFL"
   },
   "source": [
    "The line in the graph shows a steep increase at the beginning, indicating that the minimum number of coins increases rapidly with the number of flowers at first. However, as the number of flowers continues to increase, the line levels off, suggesting that the minimum number of coins required increases at a slower rate. This could imply that after a certain point, obtaining additional flowers requires fewer additional coins. The graphe looks like a negative exponential graphe."
   ]
  },
  {
   "cell_type": "markdown",
   "id": "6iBPzZVoFWbJ",
   "metadata": {
    "id": "6iBPzZVoFWbJ"
   },
   "source": [
    "Quelle est la complexité temporelle de cet algorithme ? Que pouvez-vous en dire au regard de la recherche exhaustive codée plus tôt en lab ?"
   ]
  },
  {
   "cell_type": "markdown",
   "id": "Yy_cvNWoFQTU",
   "metadata": {
    "id": "Yy_cvNWoFQTU"
   },
   "source": [
    "### Explications"
   ]
  },
  {
   "cell_type": "markdown",
   "id": "fcVl13CNFjIV",
   "metadata": {
    "id": "fcVl13CNFjIV"
   },
   "source": [
    "The time complexity of this new algorithm is more efficient compared to the exhaustive search approach used earlier. In the exhaustive search, the time complexity was O(3^L), which is exponential and can become very slow for larger values of L. However, the dynamic programming approach implemented in this algorithm significantly improves the time complexity.\n",
    "\n",
    "The time complexity of the provided dynamic programming algorithm is approximately O(L^2), which is quadratic. This means that the algorithm's runtime grows at a much slower rate as L increases compared to the exponential growth of the exhaustive search. As a result, the dynamic programming algorithm is much more efficient and suitable for larger values of L, making it a better choice for solving this problem."
   ]
  }
 ],
 "metadata": {
  "colab": {
   "provenance": []
  },
  "interpreter": {
   "hash": "4d627b3ea71e790ed7d9c294cc76e400708b53c97c06f52348911b9296e7b669"
  },
  "kernelspec": {
   "display_name": "Python 3 (ipykernel)",
   "language": "python",
   "name": "python3"
  },
  "language_info": {
   "codemirror_mode": {
    "name": "ipython",
    "version": 3
   },
   "file_extension": ".py",
   "mimetype": "text/x-python",
   "name": "python",
   "nbconvert_exporter": "python",
   "pygments_lexer": "ipython3",
   "version": "3.11.5"
  }
 },
 "nbformat": 4,
 "nbformat_minor": 5
}
