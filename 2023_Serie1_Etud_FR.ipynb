{
  "cells": [
    {
      "cell_type": "markdown",
      "id": "9aec3600-4aba-4aca-8b31-fafd437386b0",
      "metadata": {
        "id": "9aec3600-4aba-4aca-8b31-fafd437386b0"
      },
      "source": [
        "# Série 1\n",
        "Ce document contient les différents exercices à réaliser. Veuillez compléter et rendre ces exercices pour la semaine prochaine.\n",
        "\n",
        "Pour chaque exercice:\n",
        "* implémentez ce qui est demandé\n",
        "* commentez votre code\n",
        "* expliquez **en français** ce que vous avez codé dans la cellule correspondante\n",
        "\n",
        "Dans vos explications à chacun des exercices, indiquez un pourcentage subjectif d'investissement de chaque membre du groupe. **Des interrogations aléatoires en classe pourront être réalisées pour vérifier votre contribution/compréhension.**"
      ]
    },
    {
      "cell_type": "markdown",
      "id": "c048d1b5-ae84-420b-ad75-54022ad3d823",
      "metadata": {
        "id": "c048d1b5-ae84-420b-ad75-54022ad3d823"
      },
      "source": [
        "## Exercice 1\n",
        "Le PGCD (plus grand commun diviseur) est le plus grand nombre entier qui divise simultanément deux autres nombres entiers.\n",
        "\n",
        "Implémentez l'algorithme d'Euclide permettant de calculer le PGCD de deux nombres entiers. Vous trouverez plus d'informations concernant l'algorithme d'Euclide en cliquant sur ce [lien](https://en.wikipedia.org/wiki/Greatest_common_divisor#Euclid's_algorithm)."
      ]
    },
    {
      "cell_type": "code",
      "execution_count": null,
      "id": "530b3d63-e9ed-4be6-ba5b-e814dd41e0da",
      "metadata": {
        "id": "530b3d63-e9ed-4be6-ba5b-e814dd41e0da"
      },
      "outputs": [],
      "source": [
        "def gcd(n: int, m: int):\n",
        "    result = 0\n",
        "    # A COMPLETER\n",
        "    return result"
      ]
    },
    {
      "cell_type": "code",
      "execution_count": null,
      "id": "102485ed-c85e-44f3-ae2f-9023bdffc948",
      "metadata": {
        "id": "102485ed-c85e-44f3-ae2f-9023bdffc948"
      },
      "outputs": [],
      "source": [
        "assert gcd(9,6) == 3\n",
        "assert gcd(24,32) == 8\n",
        "assert gcd(18,18) == 18\n",
        "assert not gcd(10,15) == 10\n",
        "assert not gcd(12,9) == 4\n",
        "assert not gcd(14,14) == 34"
      ]
    },
    {
      "cell_type": "markdown",
      "id": "a16a16c3-0418-4825-af9c-86694192e9f5",
      "metadata": {
        "id": "a16a16c3-0418-4825-af9c-86694192e9f5"
      },
      "source": [
        "### Explications"
      ]
    },
    {
      "cell_type": "markdown",
      "id": "cae476f0-400c-4ef8-b018-4afa60982a5a",
      "metadata": {
        "id": "cae476f0-400c-4ef8-b018-4afa60982a5a"
      },
      "source": [
        "<< A REMPLIR PAR L'ETUDIANT >>"
      ]
    },
    {
      "cell_type": "markdown",
      "id": "f4caa6ca-084e-45ea-bf26-9ce9ea4c4667",
      "metadata": {
        "id": "f4caa6ca-084e-45ea-bf26-9ce9ea4c4667"
      },
      "source": [
        "## Exercice 2\n",
        "Implémentez une manière de calculer $x^n$ en utilisant la méthode de dichotomie."
      ]
    },
    {
      "cell_type": "code",
      "execution_count": null,
      "id": "d76d206b-89e0-44f4-bf0d-10f223950c2a",
      "metadata": {
        "id": "d76d206b-89e0-44f4-bf0d-10f223950c2a"
      },
      "outputs": [],
      "source": [
        "def powdi(x: int, n: int):\n",
        "    # A COMPLETER\n",
        "    return None"
      ]
    },
    {
      "cell_type": "code",
      "execution_count": null,
      "id": "f3963a0f-8fda-4321-ab94-8856103945c9",
      "metadata": {
        "id": "f3963a0f-8fda-4321-ab94-8856103945c9"
      },
      "outputs": [],
      "source": [
        "assert powdi(2,3) == 8\n",
        "assert powdi(4,2) == 16\n",
        "assert powdi(2,2) == 4\n",
        "assert powdi(4,0) == 1\n",
        "assert powdi(2,1) == 2\n",
        "assert not powdi(5,2) == 10\n",
        "assert not powdi(3,7) == 10\n",
        "assert not powdi(3,3) == 10"
      ]
    },
    {
      "cell_type": "markdown",
      "id": "4f21166a-1dff-44fe-87fa-97721ca66713",
      "metadata": {
        "id": "4f21166a-1dff-44fe-87fa-97721ca66713"
      },
      "source": [
        "### Explications"
      ]
    },
    {
      "cell_type": "markdown",
      "id": "2ea0051d-e11f-4c78-a560-1ead461b83a4",
      "metadata": {
        "id": "2ea0051d-e11f-4c78-a560-1ead461b83a4"
      },
      "source": [
        "<< A REMPLIR PAR L'ETUDIANT >>"
      ]
    },
    {
      "cell_type": "markdown",
      "id": "5ed1f459-7bd3-48dc-ac2b-e149c6df6c7f",
      "metadata": {
        "id": "5ed1f459-7bd3-48dc-ac2b-e149c6df6c7f"
      },
      "source": [
        "## Exercice 3\n",
        "La suite de Fibonacci est une suite de nombres entiers dans laquelle chaque nombre $f_{n+2}$ correspond à la somme des deux nombres qui le précèdent, $f_{n+1}+f_{n}$.\n",
        "\n",
        "Implémentez l'algorithme de Fibonacci en utilisant la multiplication matricielle."
      ]
    },
    {
      "cell_type": "code",
      "execution_count": null,
      "id": "c2865af5-764e-494a-9749-851fdf39cd63",
      "metadata": {
        "id": "c2865af5-764e-494a-9749-851fdf39cd63"
      },
      "outputs": [],
      "source": [
        "def fibo(n: int):\n",
        "    result = 0\n",
        "    # A COMPLETER\n",
        "    return result"
      ]
    },
    {
      "cell_type": "code",
      "execution_count": null,
      "id": "75ca81ec-27df-45a1-9464-57e73c08aef7",
      "metadata": {
        "id": "75ca81ec-27df-45a1-9464-57e73c08aef7"
      },
      "outputs": [],
      "source": [
        "assert fibo(8) == 21\n",
        "assert fibo(10) == 55\n",
        "assert fibo(0) == 0\n",
        "assert fibo(1) == 1\n",
        "assert not fibo(5) == 10"
      ]
    },
    {
      "cell_type": "markdown",
      "id": "3f47e9dc-52a3-419a-b944-55a7a0d0a4e7",
      "metadata": {
        "id": "3f47e9dc-52a3-419a-b944-55a7a0d0a4e7"
      },
      "source": [
        "### Explications"
      ]
    },
    {
      "cell_type": "markdown",
      "id": "00cd736a-f752-461e-8540-4bf6e9193b4d",
      "metadata": {
        "id": "00cd736a-f752-461e-8540-4bf6e9193b4d"
      },
      "source": [
        "<< A REMPLIR PAR L'ETUDIANT >>"
      ]
    },
    {
      "cell_type": "markdown",
      "id": "6d41402d-e2b8-4067-a41d-c2220cfdb932",
      "metadata": {
        "id": "6d41402d-e2b8-4067-a41d-c2220cfdb932"
      },
      "source": [
        "### Exercice 3.1\n",
        "$(1)$ Démontrez qu'il existe une matrice $A$ reliant $\\left[\\begin{array}{c}\n",
        "f_n \\\\\n",
        "f_{n+1}\n",
        "\\end{array}\\right]$ à $\\left[\\begin{array}{c}\n",
        "f_{n+1} \\\\\n",
        "f_{n+2}\n",
        "\\end{array}\\right]$ pour tout $n\\in \\mathbb{N}$.\n",
        "\n",
        "$(2)$ Exprimez alors  $\\left[\\begin{array}{c}\n",
        "f_n \\\\\n",
        "f_{n+1}\n",
        "\\end{array}\\right]$ selon $A$ et  $\\left[\\begin{array}{c}\n",
        "f_0 \\\\\n",
        "f_{1}\n",
        "\\end{array}\\right]$ ."
      ]
    },
    {
      "cell_type": "markdown",
      "id": "b97c8f6e-1cb0-4205-b767-15a90d302f42",
      "metadata": {
        "id": "b97c8f6e-1cb0-4205-b767-15a90d302f42"
      },
      "source": [
        "<< A REMPLIR PAR L'ETUDIANT >>"
      ]
    },
    {
      "cell_type": "markdown",
      "source": [
        "### Exercice 3.2 - (<font color='#db60cf'>Bonus</font>) Une formule analytique pour $f_n$\n",
        "Que peut-on dire de $A$ ? Déterminez ses valeurs propres et ses sous-espaces propres associés."
      ],
      "metadata": {
        "id": "H4AmpMoXgwvm"
      },
      "id": "H4AmpMoXgwvm"
    },
    {
      "cell_type": "markdown",
      "source": [
        "<< A REMPLIR PAR L'ETUDIANT >>"
      ],
      "metadata": {
        "id": "v8KEN04Ki9Vu"
      },
      "id": "v8KEN04Ki9Vu"
    },
    {
      "cell_type": "markdown",
      "source": [
        "En utilisant $(2)$, en déduire une forme analytique de $f_n$."
      ],
      "metadata": {
        "id": "PZjl6-cZi_kO"
      },
      "id": "PZjl6-cZi_kO"
    },
    {
      "cell_type": "markdown",
      "source": [
        "<< A REMPLIR PAR L'ETUDIANT >>"
      ],
      "metadata": {
        "id": "2pv0qd4JjBfy"
      },
      "id": "2pv0qd4JjBfy"
    },
    {
      "cell_type": "markdown",
      "id": "07be6c36-643f-4951-b68c-8b792565eda7",
      "metadata": {
        "id": "07be6c36-643f-4951-b68c-8b792565eda7"
      },
      "source": [
        "## Exercice 4\n",
        "Implémentez et testez les 3 versions de l'algorithme calculant la sous-suite de somme maximale, c'est-à-dire:\n",
        "* 3 boucles imbriquées\n",
        "* 2 boucles imbriquées\n",
        "* une seule boucle (Kadane)"
      ]
    },
    {
      "cell_type": "code",
      "execution_count": null,
      "id": "d882174a-af35-4cc5-9b63-80afab0c5500",
      "metadata": {
        "id": "d882174a-af35-4cc5-9b63-80afab0c5500"
      },
      "outputs": [],
      "source": [
        "def maxSub3(m):\n",
        "    maxSum = 0\n",
        "    # A COMPLETER: 3 BOUCLES IMBRIQUEES\n",
        "    return maxSum\n",
        "\n",
        "def maxSub2(m):\n",
        "    maxSum = 0\n",
        "    # A COMPLETER: 2 BOUCLES IMBRIQUEES\n",
        "    return maxSum\n",
        "\n",
        "def maxSub1(m):\n",
        "    maxSum = 0\n",
        "    # A COMPLETER: 1 SEULE BOUCLE\n",
        "    return maxSum"
      ]
    },
    {
      "cell_type": "code",
      "execution_count": null,
      "id": "a9b9bc16-b296-408b-a5f9-1a486cd77ebd",
      "metadata": {
        "id": "a9b9bc16-b296-408b-a5f9-1a486cd77ebd"
      },
      "outputs": [],
      "source": [
        "assert maxSub3([4,3,-10,2]) == 7\n",
        "assert maxSub3([4,3,-10,2,8]) == 10\n",
        "assert not maxSub3([4,3,-10,2,8]) == -10\n",
        "\n",
        "assert maxSub2([4,3,-10,2]) == 7\n",
        "assert maxSub2([4,3,-10,2,8]) == 10\n",
        "assert not maxSub2([4,3,-10,2,8]) == -10\n",
        "\n",
        "assert maxSub1([4,3,-10,2]) == 7\n",
        "assert maxSub1([4,3,-10,2,8]) == 10\n",
        "assert not maxSub1([4,3,-10,2,8]) == -10"
      ]
    },
    {
      "cell_type": "markdown",
      "id": "e43f328f-cec8-4d5d-bb25-0abcd8a184fb",
      "metadata": {
        "id": "e43f328f-cec8-4d5d-bb25-0abcd8a184fb"
      },
      "source": [
        "### Explications"
      ]
    },
    {
      "cell_type": "markdown",
      "id": "9ea3d8b5-a91c-4aa7-ad87-35fe32043114",
      "metadata": {
        "id": "9ea3d8b5-a91c-4aa7-ad87-35fe32043114"
      },
      "source": [
        "<< A REMPLIR PAR L'ETUDIANT >>"
      ]
    },
    {
      "cell_type": "code",
      "execution_count": null,
      "id": "8a7df467-85f8-4484-9050-1cc3eb25783e",
      "metadata": {
        "id": "8a7df467-85f8-4484-9050-1cc3eb25783e"
      },
      "outputs": [],
      "source": []
    }
  ],
  "metadata": {
    "kernelspec": {
      "display_name": "Python",
      "language": "python",
      "name": "python3"
    },
    "language_info": {
      "codemirror_mode": {
        "name": "ipython",
        "version": 3
      },
      "file_extension": ".py",
      "mimetype": "text/x-python",
      "name": "python",
      "nbconvert_exporter": "python",
      "pygments_lexer": "ipython3",
      "version": "3.8.10"
    },
    "colab": {
      "provenance": []
    }
  },
  "nbformat": 4,
  "nbformat_minor": 5
}