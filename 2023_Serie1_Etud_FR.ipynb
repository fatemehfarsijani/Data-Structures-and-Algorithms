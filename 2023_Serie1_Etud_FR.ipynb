{
 "cells": [
  {
   "cell_type": "markdown",
   "id": "9aec3600-4aba-4aca-8b31-fafd437386b0",
   "metadata": {
    "id": "9aec3600-4aba-4aca-8b31-fafd437386b0"
   },
   "source": [
    "# Série 1\n",
    "Ce document contient les différents exercices à réaliser. Veuillez compléter et rendre ces exercices pour la semaine prochaine.\n",
    "\n",
    "Pour chaque exercice:\n",
    "* implémentez ce qui est demandé\n",
    "* commentez votre code\n",
    "* expliquez **en français** ce que vous avez codé dans la cellule correspondante\n",
    "\n",
    "Dans vos explications à chacun des exercices, indiquez un pourcentage subjectif d'investissement de chaque membre du groupe. **Des interrogations aléatoires en classe pourront être réalisées pour vérifier votre contribution/compréhension.**"
   ]
  },
  {
   "cell_type": "markdown",
   "id": "c048d1b5-ae84-420b-ad75-54022ad3d823",
   "metadata": {
    "id": "c048d1b5-ae84-420b-ad75-54022ad3d823"
   },
   "source": [
    "## Exercice 1\n",
    "Le PGCD (plus grand commun diviseur) est le plus grand nombre entier qui divise simultanément deux autres nombres entiers.\n",
    "\n",
    "Implémentez l'algorithme d'Euclide permettant de calculer le PGCD de deux nombres entiers. Vous trouverez plus d'informations concernant l'algorithme d'Euclide en cliquant sur ce [lien](https://en.wikipedia.org/wiki/Greatest_common_divisor#Euclid's_algorithm)."
   ]
  },
  {
   "cell_type": "code",
   "execution_count": 9,
   "id": "530b3d63-e9ed-4be6-ba5b-e814dd41e0da",
   "metadata": {
    "id": "530b3d63-e9ed-4be6-ba5b-e814dd41e0da",
    "tags": []
   },
   "outputs": [],
   "source": [
    "def gcd(n: int, m: int):\n",
    "    result = 0\n",
    "    while n != m:\n",
    "      if n > m:\n",
    "        n -= m\n",
    "      else:\n",
    "        m -= n\n",
    "    result = n\n",
    "    return result"
   ]
  },
  {
   "cell_type": "code",
   "execution_count": 10,
   "id": "102485ed-c85e-44f3-ae2f-9023bdffc948",
   "metadata": {
    "id": "102485ed-c85e-44f3-ae2f-9023bdffc948",
    "tags": []
   },
   "outputs": [],
   "source": [
    "assert gcd(9,6) == 3\n",
    "assert gcd(24,32) == 8\n",
    "assert gcd(18,18) == 18\n",
    "assert not gcd(10,15) == 10\n",
    "assert not gcd(12,9) == 4\n",
    "assert not gcd(14,14) == 34"
   ]
  },
  {
   "cell_type": "markdown",
   "id": "cae476f0-400c-4ef8-b018-4afa60982a5a",
   "metadata": {
    "id": "cae476f0-400c-4ef8-b018-4afa60982a5a"
   },
   "source": [
    "### Explanations"
   ]
  },
  {
   "cell_type": "markdown",
   "id": "WD4eqFGKUrb-",
   "metadata": {
    "id": "WD4eqFGKUrb-"
   },
   "source": [
    "We want to find the GCD (Greatest Common Divisor) between 2 numbers, n and m. We begin by declaring our variables within the gcd function. Then, we reset the result variable.\n",
    "\n",
    "We create a while loop that tests whether n is different from m. As long as n is different from m, we keep looping.\n",
    "\n",
    "While n is different from m, we need to determine which of the two terms is larger. If n is greater than m, then n becomes (n - m).\n",
    "\n",
    "If m is greater than n, it's m that becomes (m - n). We continue looping in the while loop until n and m are equal. If that's the case, it means we have found the GCD between the two terms.\n",
    "\n",
    "In the end, we assign n to the result variable to yield the GCD. (It's not important whether result = n or m because, in any case, they are equal.)"
   ]
  },
  {
   "cell_type": "markdown",
   "id": "f4caa6ca-084e-45ea-bf26-9ce9ea4c4667",
   "metadata": {
    "id": "f4caa6ca-084e-45ea-bf26-9ce9ea4c4667"
   },
   "source": [
    "## Exercice 2\n",
    "Implémentez une manière de calculer $x^n$ en utilisant la méthode de dichotomie."
   ]
  },
  {
   "cell_type": "code",
   "execution_count": 11,
   "id": "d76d206b-89e0-44f4-bf0d-10f223950c2a",
   "metadata": {
    "id": "d76d206b-89e0-44f4-bf0d-10f223950c2a",
    "tags": []
   },
   "outputs": [],
   "source": [
    "def powdi(x: int, n: int):\n",
    "    # A COMPLETER\n",
    "    if n == 0:\n",
    "      return 1\n",
    "\n",
    "    # check if the exponent is even\n",
    "    if n % 2 == 0:\n",
    "      n_halfPower = powdi(x, n//2)\n",
    "      result = n_halfPower * n_halfPower\n",
    "      return result\n",
    "\n",
    "    # check if the exponent is odd\n",
    "    if n % 2 != 0:\n",
    "      n_halfPower = powdi(x, (n-1)//2)\n",
    "      result = n_halfPower * n_halfPower * x\n",
    "      return result\n",
    "\n",
    "    # check if exponenet is negative\n",
    "    if n < 0:\n",
    "      return 1 / result\n",
    "    else:\n",
    "        return result\n",
    "\n",
    "    return None"
   ]
  },
  {
   "cell_type": "code",
   "execution_count": 12,
   "id": "f3963a0f-8fda-4321-ab94-8856103945c9",
   "metadata": {
    "id": "f3963a0f-8fda-4321-ab94-8856103945c9",
    "tags": []
   },
   "outputs": [],
   "source": [
    "assert powdi(2,3) == 8\n",
    "assert powdi(4,2) == 16\n",
    "assert powdi(2,2) == 4\n",
    "assert powdi(4,0) == 1\n",
    "assert powdi(2,1) == 2\n",
    "assert not powdi(5,2) == 10\n",
    "assert not powdi(3,7) == 10\n",
    "assert not powdi(3,3) == 10"
   ]
  },
  {
   "cell_type": "markdown",
   "id": "4f21166a-1dff-44fe-87fa-97721ca66713",
   "metadata": {
    "id": "4f21166a-1dff-44fe-87fa-97721ca66713"
   },
   "source": [
    "### Explications"
   ]
  },
  {
   "cell_type": "markdown",
   "id": "iL_tYsf9U9s1",
   "metadata": {
    "id": "iL_tYsf9U9s1"
   },
   "source": [
    "**Binary exponentiation** is an efficient way to compute the power of any given number $x$ raised to a non-negative integer $n$. This method reduces the number of multiplications required to calculate $x^n$ from $O(n)$ to $O(log n)$, making it more efficient, particularly for large values of $n$ thanks to the binary representation of the exponent, hence performing fewer multiplications. In this method the base is squared and multiplied recurringly as requied. The above python script provides a solution for calcutling $x^n$ using binary exponentiation and its descrition is provided as below.\n",
    "\n",
    "In this script for $n = 0$, $1$ is retunred as any number raised to the power of zero equals $1$. Then, it checks if $n$ is an even value or an odd value and act as below:\n",
    "\n",
    "*   if $n$ is even: It calculates $x^n$ by recursively calculating $x$ raised to the power of $n/2$ and then squaring it, since any value of $x$ raised to an even power can be shown as $(x^(n/2))^2$.\n",
    "\n",
    "*   if $n$ is odd: It calculates $x^n$ by recursively calculating $x$ raised to the power of $(n-1)/2$, squaring it, and then multiplying it by $x$, since, any value of $x$ raised to an odd power can be shown as $(x^((n-1)/2))^2 *x$."
   ]
  },
  {
   "cell_type": "markdown",
   "id": "5ed1f459-7bd3-48dc-ac2b-e149c6df6c7f",
   "metadata": {
    "id": "5ed1f459-7bd3-48dc-ac2b-e149c6df6c7f"
   },
   "source": [
    "## Exercice 3\n",
    "La suite de Fibonacci est une suite de nombres entiers dans laquelle chaque nombre $f_{n+2}$ correspond à la somme des deux nombres qui le précèdent, $f_{n+1}+f_{n}$.\n",
    "\n",
    "Implémentez l'algorithme de Fibonacci en utilisant la multiplication matricielle."
   ]
  },
  {
   "cell_type": "code",
   "execution_count": 13,
   "id": "c2865af5-764e-494a-9749-851fdf39cd63",
   "metadata": {
    "id": "c2865af5-764e-494a-9749-851fdf39cd63",
    "tags": []
   },
   "outputs": [],
   "source": [
    "import numpy as np\n",
    "\n",
    "# define the function to multiply two matrices A and B\n",
    "def matrix_multiply(A, B):\n",
    "    row_A, col_A = A.shape\n",
    "    row_B, col_B = B.shape\n",
    "\n",
    "    if col_A != row_B:\n",
    "        raise ValueError(\"Matrix dimensions do not match for multiplication\")\n",
    "\n",
    "    result = np.zeros((row_A, col_B), dtype=int)\n",
    "\n",
    "    for i in range(row_A):\n",
    "        for j in range(col_B):\n",
    "            for k in range(col_A):\n",
    "                result[i][j] += A[i][k] * B[k][j]\n",
    "    return result\n",
    "    ## a simpler method is to use dot function provided by numpy package\n",
    "    # return np.dot(a, b)\n",
    "\n",
    "# define the functino to calculate the power of a matrix F to the n_th power\n",
    "\"\"\"\n",
    "# one can also use the binary exponentiation to calculate this even more efficiently\n",
    "as shown in exercise 2\n",
    "\"\"\"\n",
    "def matrix_powdi(F, n):\n",
    "    result = 0\n",
    "    # A COMPLETER\n",
    "    if n == 1:\n",
    "        return F\n",
    "    elif n % 2 == 0:\n",
    "        half_power = matrix_powdi(F, n // 2)\n",
    "        return matrix_multiply(half_power, half_power)\n",
    "    else:\n",
    "        half_power = matrix_powdi(F, (n - 1) // 2)\n",
    "        return matrix_multiply(matrix_multiply(half_power, half_power), F)\n",
    "\n",
    "def fibo(n: int):\n",
    "    if n <= 0:\n",
    "        return 0              # 1st term of Fibonacci is 0\n",
    "    elif n == 1:\n",
    "        return 1              # 2nd term of Fibonacci is 1\n",
    "\n",
    "    # define the Fibonacci matrix as explained in 3.1(1)\n",
    "    A = np.array([[0, 1],\n",
    "                  [1, 1]], dtype=int)\n",
    "\n",
    "    # Calculate F^n using matrix exponentiation\n",
    "    result = matrix_powdi(A, n-1)\n",
    "    return result[1][1]       # bottom right element shows the desired Fibonacci term"
   ]
  },
  {
   "cell_type": "code",
   "execution_count": 14,
   "id": "75ca81ec-27df-45a1-9464-57e73c08aef7",
   "metadata": {
    "id": "75ca81ec-27df-45a1-9464-57e73c08aef7",
    "tags": []
   },
   "outputs": [],
   "source": [
    "assert fibo(8) == 21\n",
    "assert fibo(10) == 55\n",
    "assert fibo(0) == 0\n",
    "assert fibo(1) == 1\n",
    "assert not fibo(5) == 10"
   ]
  },
  {
   "cell_type": "markdown",
   "id": "3f47e9dc-52a3-419a-b944-55a7a0d0a4e7",
   "metadata": {
    "id": "3f47e9dc-52a3-419a-b944-55a7a0d0a4e7"
   },
   "source": [
    "### Explications"
   ]
  },
  {
   "cell_type": "markdown",
   "id": "PZ0v56e9VOCP",
   "metadata": {
    "id": "PZ0v56e9VOCP"
   },
   "source": [
    "To compute any term of the Fibonacci sequence we can use matrix multiplications. The details are provided as comments in the python script and in solutions prodided below."
   ]
  },
  {
   "cell_type": "markdown",
   "id": "6d41402d-e2b8-4067-a41d-c2220cfdb932",
   "metadata": {
    "id": "6d41402d-e2b8-4067-a41d-c2220cfdb932"
   },
   "source": [
    "### Exercice 3.1\n",
    "$(1)$ Démontrez qu'il existe une matrice $A$ reliant $\\left[\\begin{array}{c}\n",
    "f_n \\\\\n",
    "f_{n+1}\n",
    "\\end{array}\\right]$ à $\\left[\\begin{array}{c}\n",
    "f_{n+1} \\\\\n",
    "f_{n+2}\n",
    "\\end{array}\\right]$ pour tout $n\\in \\mathbb{N}$.\n",
    "\n",
    "$(2)$ Exprimez alors  $\\left[\\begin{array}{c}\n",
    "f_n \\\\\n",
    "f_{n+1}\n",
    "\\end{array}\\right]$ selon $A$ et  $\\left[\\begin{array}{c}\n",
    "f_0 \\\\\n",
    "f_{1}\n",
    "\\end{array}\\right]$ ."
   ]
  },
  {
   "cell_type": "markdown",
   "id": "b97c8f6e-1cb0-4205-b767-15a90d302f42",
   "metadata": {
    "id": "b97c8f6e-1cb0-4205-b767-15a90d302f42"
   },
   "source": [
    "Exercise 3.1 (1):\n",
    "\n",
    "$\\left[\\begin{array}{c}\n",
    "f_{n+1} \\\\\n",
    "f_{n+2}\n",
    "\\end{array}\\right]$ = $A$ x $\\left[\\begin{array}{c}\n",
    "f_{n} \\\\\n",
    "f_{n+1}\n",
    "\\end{array}\\right]$\n",
    "\n",
    "This immplies that Matrix $A$ is a $2$x$2$ matrix, which can be defined as below:\n",
    "\n",
    "$\\left[\\begin{array}{c}\n",
    "f_{n+1} \\\\\n",
    "f_{n+2}\n",
    "\\end{array}\\right]$ = $\\left[\\begin{array}{cc}\n",
    "a & b \\\\\n",
    "c & d\n",
    "\\end{array}\\right]$ x $\\left[\\begin{array}{c}\n",
    "f_{n} \\\\\n",
    "f_{n+1}\n",
    "\\end{array}\\right]$\n",
    "\n",
    "Hence:\n",
    "\n",
    "$af_{n} + bf_{n+1} = f_{n+1}$ and $cf_{n} + df_{n+1} = f_{n+2}$. Solving the two equations give: $a = 0, b = 1, c = 1, d = 1$ and hence matrix $A$ is as below:\n",
    "\n",
    "$A$ = $\\left[\\begin{array}{cc}\n",
    "0 & 1 \\\\\n",
    "1 & 1\n",
    "\\end{array}\\right]$\n",
    "\n",
    "and we will have the following relation:\n",
    "\n",
    "$\\left[\\begin{array}{c}\n",
    "f_{n+1} \\\\\n",
    "f_{n+2}\n",
    "\\end{array}\\right]$ = $\\left[\\begin{array}{cc}\n",
    "0 & 1 \\\\\n",
    "1 & 1\n",
    "\\end{array}\\right]$ x $\\left[\\begin{array}{c}\n",
    "f_{n} \\\\\n",
    "f_{n+1}\n",
    "\\end{array}\\right]$"
   ]
  },
  {
   "cell_type": "markdown",
   "id": "sQcxNHCjVRti",
   "metadata": {
    "id": "sQcxNHCjVRti"
   },
   "source": [
    "Exercise 3.1 (2)\n",
    "\n",
    "A demonstrated above we can write the following equation:\n",
    "\n",
    "$\\left[\\begin{array}{c}\n",
    "f_{n} \\\\\n",
    "f_{n+1}\n",
    "\\end{array}\\right]$ = $\\left[\\begin{array}{cc}\n",
    "0 & 1 \\\\\n",
    "1 & 1\n",
    "\\end{array}\\right]$ x $\\left[\\begin{array}{c}\n",
    "f_{0} \\\\\n",
    "f_{1}\n",
    "\\end{array}\\right]$\n",
    "\n",
    "This results into $f_{1} = f_{n}$ and $f_{0} + f_{1} = f_{n+1}$.\n",
    "\n",
    "Given that $f_0 = 0$ and $f_1 = 1$ and pluging in the values we get:\n",
    "\n",
    "$f_{n} = 0$ and $f_{n+1} = 1$\n",
    "\n",
    "$\\left[\\begin{array}{c}\n",
    "0 \\\\\n",
    "1\n",
    "\\end{array}\\right]$ = $\\left[\\begin{array}{cc}\n",
    "0 & 1 \\\\\n",
    "1 & 1\n",
    "\\end{array}\\right]$ x $\\left[\\begin{array}{c}\n",
    "0 \\\\\n",
    "1\n",
    "\\end{array}\\right]$\n",
    "\n",
    "Matrix $\\left[\\begin{array}{c}\n",
    "f_{0} \\\\\n",
    "f_{1}\n",
    "\\end{array}\\right]$ is known as the basic matrix and it can be deducted that by multiplying matrix $A$ by iteself $n$ times (matrix exponentitation) the $n^{th}$ term of the Fibonacci sequence is found.\n",
    "\n",
    "$\\left[\\begin{array}{c}\n",
    "f_{n} \\\\\n",
    "f_{n+1}\n",
    "\\end{array}\\right]$ = $\\left[\\begin{array}{cc}\n",
    "0 & 1 \\\\\n",
    "1 & 1\n",
    "\\end{array}\\right] ^ n$ x $\\left[\\begin{array}{c}\n",
    "f_{0} \\\\\n",
    "f_{1}\n",
    "\\end{array}\\right]$\n",
    "\n",
    "In other words,\n",
    "\n",
    "$A^{n-1} = \\left[\\begin{array}{cc}\n",
    "f_{n-2} & f_{n-1} \\\\\n",
    "f_{n-1} & f_{n}\n",
    "\\end{array}\\right]$"
   ]
  },
  {
   "cell_type": "markdown",
   "id": "H4AmpMoXgwvm",
   "metadata": {
    "id": "H4AmpMoXgwvm"
   },
   "source": [
    "### Exercice 3.2 - (<font color='#db60cf'>Bonus</font>) Une formule analytique pour $f_n$\n",
    "Que peut-on dire de $A$ ? Déterminez ses valeurs propres et ses sous-espaces propres associés."
   ]
  },
  {
   "cell_type": "markdown",
   "id": "v8KEN04Ki9Vu",
   "metadata": {
    "id": "v8KEN04Ki9Vu"
   },
   "source": [
    "Matrix $\\left[\\begin{array}{c}\n",
    "f_{0} \\\\\n",
    "f_{1}\n",
    "\\end{array}\\right]$ is known as the basic matrix and it can be deducted that by multiplying matrix $A$ by iteself $n$ times (matrix exponentitation) the $n^{th}$ term of the Fibonacci sequence is found.\n",
    "\n",
    "$\\left[\\begin{array}{c}\n",
    "f_{n} \\\\\n",
    "f_{n+1}\n",
    "\\end{array}\\right]$ = $\\left[\\begin{array}{cc}\n",
    "0 & 1 \\\\\n",
    "1 & 1\n",
    "\\end{array}\\right] ^ n$ x $\\left[\\begin{array}{c}\n",
    "f_{0} \\\\\n",
    "f_{1}\n",
    "\\end{array}\\right]$\n",
    "\n",
    "In other words,\n",
    "\n",
    "$A^{n-1} = \\left[\\begin{array}{cc}\n",
    "f_{n-2} & f_{n-1} \\\\\n",
    "f_{n-1} & f_{n}\n",
    "\\end{array}\\right]$\n",
    "\n",
    "To calculate Fibonacci numbers efficiently, we can use matrix exponentiation as we need to multiply matrix $A$ by itself mulyiple times. In other words, we raise matrix $A$ to a power to get a result matrix that helps us find Fibonacci numbers efficiently, instead of simply using matrix multiplication. To calculate. As a result, the bottom-right element of the resulting matrix $A^{n-1}$ will be the $n^{th}$ Fibonacci number.\n",
    "\n",
    "In this regard, we can get help from the Eigenvalues and eigenvectors of matrix $A$, which are properties of the matrix that can be used in the matrix exponentiation process. They help us understand how the matrix behaves with different exponenets..\n",
    "\n",
    "When we find the eigenvalues and associated eigenvectors of matrix $A$, it allows us to diagonalize the matrix, which simplifies the matrix exponentiation process, specially, for large exponenets, i.e. computing high Fibonacci numbers very fast.\n",
    "\n",
    "Now, to find the eigenvalues of $A$, we need to solve the characteristic equation, Where $λ$ is the eigenvalue and $I$ is the identity matrix. So, we have\n",
    "\n",
    "$|A - λI| = 0$\n",
    "\n",
    "$A - λI = \\left[\\begin{array}{cc}\n",
    "0-λ & 1 \\\\\n",
    "1 & 1-λ\n",
    "\\end{array}\\right]$\n",
    "\n",
    "Now, we calculate the determinant of the above matrix as required by  the characteristic equation:\n",
    "\n",
    "$|A - λI| = (0-λ)(1-λ) - (1)(1) = λ^2 - λ - 1$\n",
    "\n",
    "The determinent should equal to zero:\n",
    "\n",
    "$λ^2 - λ - 1 = 0$\n",
    "\n",
    "$λ_1 = (1 + \\sqrt(5) / 2$\n",
    "\n",
    "and\n",
    "\n",
    "$λ_2 = (1 - \\sqrt(5) / 2$\n",
    "\n",
    "\n",
    "Next, in order to find the eigensubspaces associated with each eigenvalue,  eigenvectors have to be computed.\n",
    "\n",
    "We need to solve the system\n",
    "\n",
    "$(A - λ₁I)v₁ = 0$\n",
    "\n",
    "and\n",
    "\n",
    "$(A - λ₂I)v₂ = 0$\n",
    "\n",
    "where $v_1$ and $v_2$ is the eigenvector corresponding to $λ_1$ and $λ_2$, resprctively. Solving this system will give you the eigenvector $v_1$ and $v_2$, which are the basis for the eigensubspaces associated with $λ₁$ and $λ₂$, respectively. The eigensubspace associated with λ₁ is spanned by v₁, and the eigensubspace associated with λ₂ is spanned by v₂.\n"
   ]
  },
  {
   "cell_type": "markdown",
   "id": "PZjl6-cZi_kO",
   "metadata": {
    "id": "PZjl6-cZi_kO"
   },
   "source": [
    "En utilisant $(2)$, en déduire une forme analytique de $f_n$."
   ]
  },
  {
   "cell_type": "markdown",
   "id": "2pv0qd4JjBfy",
   "metadata": {
    "id": "2pv0qd4JjBfy"
   },
   "source": [
    "Matrix $\\left[\\begin{array}{c}\n",
    "f_{0} \\\\\n",
    "f_{1}\n",
    "\\end{array}\\right]$ is known as the basic matrix and it can be deducted that by multiplying matrix $A$ by iteself $n$ times (matrix exponentitation) the $n^{th}$ term of the Fibonacci sequence is found.\n",
    "\n",
    "$\\left[\\begin{array}{c}\n",
    "f_{n} \\\\\n",
    "f_{n+1}\n",
    "\\end{array}\\right]$ = $\\left[\\begin{array}{cc}\n",
    "0 & 1 \\\\\n",
    "1 & 1\n",
    "\\end{array}\\right] ^ n$ x $\\left[\\begin{array}{c}\n",
    "f_{0} \\\\\n",
    "f_{1}\n",
    "\\end{array}\\right]$\n",
    "\n",
    "In other words,\n",
    "\n",
    "$A^{n-1} = \\left[\\begin{array}{cc}\n",
    "f_{n-2} & f_{n-1} \\\\\n",
    "f_{n-1} & f_{n}\n",
    "\\end{array}\\right]$\n",
    "\n",
    "To calculate Fibonacci numbers efficiently, we can use matrix exponentiation as we need to multiply matrix $A$ by itself mulyiple times. In other words, we raise matrix $A$ to a power to get a result matrix that helps us find Fibonacci numbers efficiently, instead of simply using matrix multiplication. To calculate. As a result, the bottom-right element of the resulting matrix $A^{n-1}$ will be the $n^{th}$ Fibonacci number"
   ]
  },
  {
   "cell_type": "markdown",
   "id": "07be6c36-643f-4951-b68c-8b792565eda7",
   "metadata": {
    "id": "07be6c36-643f-4951-b68c-8b792565eda7"
   },
   "source": [
    "## Exercice 4\n",
    "Implémentez et testez les 3 versions de l'algorithme calculant la sous-suite de somme maximale, c'est-à-dire:\n",
    "* 3 boucles imbriquées\n",
    "* 2 boucles imbriquées\n",
    "* une seule boucle (Kadane)"
   ]
  },
  {
   "cell_type": "code",
   "execution_count": 15,
   "id": "d882174a-af35-4cc5-9b63-80afab0c5500",
   "metadata": {
    "id": "d882174a-af35-4cc5-9b63-80afab0c5500",
    "tags": []
   },
   "outputs": [],
   "source": [
    "def maxSub3(m):      #définition de la fonction max_sub3\n",
    "    maxSum = 0        #initialisation de la variable maxSum à 0\n",
    "    n = len(m)        #la variable n permet de connaitre le nombre d'éléments de la liste m\n",
    "\n",
    "    for i in range(n):    #initialisation de la première boucle qui parcourt tous les indices possibles de début de sous-séquence\n",
    "        for j in range(i, n):   #initialisation d'une boucle imbriquée permettant de générer toutes les sous-séquences possibles commençant à l'indice i.\n",
    "            current_sum = 0   #à chaque itération, la somme est remise à 0 afin de pouvoir calculer la somme de la séquence en cours\n",
    "            for k in range(i, j + 1):   #3ème boucle imbriquée qui parcourt tous les éléments d'une séquence entre i et j\n",
    "                current_sum += m[k]   #permet d'ajouter la valeur de l'élément m[k] à la somme actuelle\n",
    "            maxSum = max(maxSum, current_sum)   #permet de comparer la somme actuelle avec la somme maximale et de choisir la valeur maximale entre les 2\n",
    "\n",
    "    return maxSum\n",
    "\n",
    "def maxSub2(m):\n",
    "    maxSum = 0\n",
    "    n = len(m)\n",
    "\n",
    "    for i in range(n):\n",
    "        current_sum = 0\n",
    "        for j in range(i, n):\n",
    "            current_sum += m[j]\n",
    "            maxSum = max(maxSum, current_sum)\n",
    "\n",
    "    return maxSum\n",
    "\n",
    "def maxSub1(m):\n",
    "    maxSum = 0\n",
    "    current_sum = m[0]\n",
    "    n = len(m)\n",
    "\n",
    "    for i in range(1, n):\n",
    "        current_sum = max(m[i], current_sum + m[i])\n",
    "        maxSum = max(maxSum, current_sum)\n",
    "\n",
    "    return maxSum\n",
    "\n"
   ]
  },
  {
   "cell_type": "code",
   "execution_count": 16,
   "id": "a9b9bc16-b296-408b-a5f9-1a486cd77ebd",
   "metadata": {
    "id": "a9b9bc16-b296-408b-a5f9-1a486cd77ebd",
    "tags": []
   },
   "outputs": [],
   "source": [
    "assert maxSub3([4,3,-10,2]) == 7\n",
    "assert maxSub3([4,3,-10,2,8]) == 10\n",
    "assert not maxSub3([4,3,-10,2,8]) == -10\n",
    "\n",
    "assert maxSub2([4,3,-10,2]) == 7\n",
    "assert maxSub2([4,3,-10,2,8]) == 10\n",
    "assert not maxSub2([4,3,-10,2,8]) == -10\n",
    "\n",
    "assert maxSub1([4,3,-10,2]) == 7\n",
    "assert maxSub1([4,3,-10,2,8]) == 10\n",
    "assert not maxSub1([4,3,-10,2,8]) == -10"
   ]
  },
  {
   "cell_type": "markdown",
   "id": "e43f328f-cec8-4d5d-bb25-0abcd8a184fb",
   "metadata": {
    "id": "e43f328f-cec8-4d5d-bb25-0abcd8a184fb"
   },
   "source": [
    "### Explications"
   ]
  },
  {
   "cell_type": "markdown",
   "id": "9ea3d8b5-a91c-4aa7-ad87-35fe32043114",
   "metadata": {
    "id": "9ea3d8b5-a91c-4aa7-ad87-35fe32043114"
   },
   "source": [
    "Comme expliqué dans les commentaires de l'algorithme à 3 boucles, chaque boucle permet de d'explorer les éléments d'une sous-séquence, de les additionner et de vérifier s'il s'agit de la somme maximale ou non. S'il s'agit de la somme maximale, alors la somme actuelle (current_sum) remplace la somme maximale."
   ]
  },
  {
   "cell_type": "code",
   "execution_count": null,
   "id": "8a7df467-85f8-4484-9050-1cc3eb25783e",
   "metadata": {
    "id": "8a7df467-85f8-4484-9050-1cc3eb25783e"
   },
   "outputs": [],
   "source": []
  }
 ],
 "metadata": {
  "colab": {
   "provenance": []
  },
  "kernelspec": {
   "display_name": "Python 3 (ipykernel)",
   "language": "python",
   "name": "python3"
  },
  "language_info": {
   "codemirror_mode": {
    "name": "ipython",
    "version": 3
   },
   "file_extension": ".py",
   "mimetype": "text/x-python",
   "name": "python",
   "nbconvert_exporter": "python",
   "pygments_lexer": "ipython3",
   "version": "3.11.5"
  }
 },
 "nbformat": 4,
 "nbformat_minor": 5
}
